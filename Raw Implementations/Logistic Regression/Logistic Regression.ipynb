{
 "cells": [
  {
   "cell_type": "markdown",
   "metadata": {},
   "source": [
    "# Homework 2 - Logistic Regression\n",
    "In Andrew Ng's course, we learned about logistic regression, a classification learning algorithm that will be used to solve the problem description.\n",
    "\n",
    "Problem description: In a dataset called \"ex2data1.txt\", there are two tests grades of a student and their acceptance into the college in a training example.\n",
    "\n",
    "Example:   85.38384, 28.3884, 0\n",
    "\n",
    "Build a classification model that estimates an applicant's probability of admission based on the scores of the two provided exams."
   ]
  },
  {
   "cell_type": "markdown",
   "metadata": {},
   "source": [
    "## Preprocessing"
   ]
  },
  {
   "cell_type": "code",
   "execution_count": 105,
   "metadata": {
    "collapsed": true
   },
   "outputs": [],
   "source": [
    "import numpy as np\n",
    "import pandas as pd\n",
    "import matplotlib.pyplot as plt\n",
    "import matplotlib.patches as mpatches"
   ]
  },
  {
   "cell_type": "code",
   "execution_count": 37,
   "metadata": {
    "collapsed": false
   },
   "outputs": [
    {
     "data": {
      "text/html": [
       "<div>\n",
       "<table border=\"1\" class=\"dataframe\">\n",
       "  <thead>\n",
       "    <tr style=\"text-align: right;\">\n",
       "      <th></th>\n",
       "      <th>Test Score 1</th>\n",
       "      <th>Test Score 2</th>\n",
       "      <th>Admittance</th>\n",
       "    </tr>\n",
       "  </thead>\n",
       "  <tbody>\n",
       "    <tr>\n",
       "      <th>0</th>\n",
       "      <td>34.623660</td>\n",
       "      <td>78.024693</td>\n",
       "      <td>0</td>\n",
       "    </tr>\n",
       "    <tr>\n",
       "      <th>1</th>\n",
       "      <td>30.286711</td>\n",
       "      <td>43.894998</td>\n",
       "      <td>0</td>\n",
       "    </tr>\n",
       "    <tr>\n",
       "      <th>2</th>\n",
       "      <td>35.847409</td>\n",
       "      <td>72.902198</td>\n",
       "      <td>0</td>\n",
       "    </tr>\n",
       "    <tr>\n",
       "      <th>3</th>\n",
       "      <td>60.182599</td>\n",
       "      <td>86.308552</td>\n",
       "      <td>1</td>\n",
       "    </tr>\n",
       "    <tr>\n",
       "      <th>4</th>\n",
       "      <td>79.032736</td>\n",
       "      <td>75.344376</td>\n",
       "      <td>1</td>\n",
       "    </tr>\n",
       "  </tbody>\n",
       "</table>\n",
       "</div>"
      ],
      "text/plain": [
       "   Test Score 1  Test Score 2  Admittance\n",
       "0     34.623660     78.024693           0\n",
       "1     30.286711     43.894998           0\n",
       "2     35.847409     72.902198           0\n",
       "3     60.182599     86.308552           1\n",
       "4     79.032736     75.344376           1"
      ]
     },
     "execution_count": 37,
     "metadata": {},
     "output_type": "execute_result"
    }
   ],
   "source": [
    "dataset = pd.read_csv(\"ex2data1.txt\", header=None)\n",
    "dataset.columns = [\"Test Score 1\", \"Test Score 2\", \"Admittance\"]\n",
    "dataset.head()"
   ]
  },
  {
   "cell_type": "code",
   "execution_count": 38,
   "metadata": {
    "collapsed": false
   },
   "outputs": [
    {
     "data": {
      "text/html": [
       "<div>\n",
       "<table border=\"1\" class=\"dataframe\">\n",
       "  <thead>\n",
       "    <tr style=\"text-align: right;\">\n",
       "      <th></th>\n",
       "      <th>Test Score 1</th>\n",
       "      <th>Test Score 2</th>\n",
       "      <th>Admittance</th>\n",
       "    </tr>\n",
       "  </thead>\n",
       "  <tbody>\n",
       "    <tr>\n",
       "      <th>count</th>\n",
       "      <td>100.000000</td>\n",
       "      <td>100.000000</td>\n",
       "      <td>100.000000</td>\n",
       "    </tr>\n",
       "    <tr>\n",
       "      <th>mean</th>\n",
       "      <td>65.644274</td>\n",
       "      <td>66.221998</td>\n",
       "      <td>0.600000</td>\n",
       "    </tr>\n",
       "    <tr>\n",
       "      <th>std</th>\n",
       "      <td>19.458222</td>\n",
       "      <td>18.582783</td>\n",
       "      <td>0.492366</td>\n",
       "    </tr>\n",
       "    <tr>\n",
       "      <th>min</th>\n",
       "      <td>30.058822</td>\n",
       "      <td>30.603263</td>\n",
       "      <td>0.000000</td>\n",
       "    </tr>\n",
       "    <tr>\n",
       "      <th>25%</th>\n",
       "      <td>50.919511</td>\n",
       "      <td>48.179205</td>\n",
       "      <td>0.000000</td>\n",
       "    </tr>\n",
       "    <tr>\n",
       "      <th>50%</th>\n",
       "      <td>67.032988</td>\n",
       "      <td>67.682381</td>\n",
       "      <td>1.000000</td>\n",
       "    </tr>\n",
       "    <tr>\n",
       "      <th>75%</th>\n",
       "      <td>80.212529</td>\n",
       "      <td>79.360605</td>\n",
       "      <td>1.000000</td>\n",
       "    </tr>\n",
       "    <tr>\n",
       "      <th>max</th>\n",
       "      <td>99.827858</td>\n",
       "      <td>98.869436</td>\n",
       "      <td>1.000000</td>\n",
       "    </tr>\n",
       "  </tbody>\n",
       "</table>\n",
       "</div>"
      ],
      "text/plain": [
       "       Test Score 1  Test Score 2  Admittance\n",
       "count    100.000000    100.000000  100.000000\n",
       "mean      65.644274     66.221998    0.600000\n",
       "std       19.458222     18.582783    0.492366\n",
       "min       30.058822     30.603263    0.000000\n",
       "25%       50.919511     48.179205    0.000000\n",
       "50%       67.032988     67.682381    1.000000\n",
       "75%       80.212529     79.360605    1.000000\n",
       "max       99.827858     98.869436    1.000000"
      ]
     },
     "execution_count": 38,
     "metadata": {},
     "output_type": "execute_result"
    }
   ],
   "source": [
    "dataset.describe()"
   ]
  },
  {
   "cell_type": "code",
   "execution_count": 39,
   "metadata": {
    "collapsed": false
   },
   "outputs": [
    {
     "name": "stdout",
     "output_type": "stream",
     "text": [
      "[ 34.62365962451697 78.0246928153624 ] [ 0 ]\n",
      "[ 30.28671076822607 43.894997524001006 ] [ 0 ]\n",
      "[ 35.84740876993872 72.90219802708364 ] [ 0 ]\n",
      "[ 60.18259938620975 86.30855209546827 ] [ 1 ]\n",
      "[ 79.0327360507101 75.3443764369103 ] [ 1 ]\n",
      "[ 45.083277476683385 56.316371781530506 ] [ 0 ]\n",
      "[ 61.10666453684766 96.51142588489624 ] [ 1 ]\n",
      "[ 75.02474556738889 46.55401354116538 ] [ 1 ]\n",
      "[ 76.09878670226256 87.42056971926803 ] [ 1 ]\n",
      "[ 84.43281996120034 43.533393310721095 ] [ 1 ]\n"
     ]
    }
   ],
   "source": [
    "X_matrix_original = dataset.iloc[:, [0, 1]].values\n",
    "Y_matrix_original = dataset.iloc[:, [-1]].values\n",
    "\n",
    "# For visualization, look at just the first 10.\n",
    "for i in range(10):\n",
    "    print(\"[ {} {} ] [ {} ]\".format(X_matrix_original[i][0], \\\n",
    "                                    X_matrix_original[i][1], \\\n",
    "                                    Y_matrix_original[i][0]))"
   ]
  },
  {
   "cell_type": "markdown",
   "metadata": {},
   "source": [
    "## Visualization"
   ]
  },
  {
   "cell_type": "code",
   "execution_count": 80,
   "metadata": {
    "collapsed": false
   },
   "outputs": [],
   "source": [
    "# Select all rows with admittance (1)\n",
    "admitted_matrix = np.array([[1.0, 1.0, 1.0]])\n",
    "for row in dataset.values:\n",
    "    if row[2] == 1.0:\n",
    "        admitted_matrix = np.append(admitted_matrix, np.expand_dims(row, axis=0), \\\n",
    "                                    axis=0)\n",
    "admitted_matrix = admitted_matrix[1:, :]\n",
    "\n",
    "# Select all rows with non-admittnce (0)\n",
    "non_admitted_matrix = np.array([[1.0, 1.0, 1.0]])\n",
    "for row in dataset.values:\n",
    "    if row[2] == 0.0:\n",
    "        non_admitted_matrix = np.append(non_admittance_matrix, \\\n",
    "                                          np.expand_dims(row, axis=0), \\\n",
    "                                          axis=0)\n",
    "non_admitted_matrix = non_admittance_matrix[1:, :]"
   ]
  },
  {
   "cell_type": "code",
   "execution_count": 120,
   "metadata": {
    "collapsed": false
   },
   "outputs": [
    {
     "data": {
      "image/png": "[encoded data removed]",
      "text/plain": [
       "<matplotlib.figure.Figure at 0x117047400>"
      ]
     },
     "metadata": {},
     "output_type": "display_data"
    }
   ],
   "source": [
    "plt.plot(admitted_matrix[:, 0], admitted_matrix[:, 1], \"ys\", \\\n",
    "            non_admitted_matrix[:, 0], non_admitted_matrix[:, 1], \"bs\")\n",
    "GRAPH_EXPAND_VAL = 5\n",
    "plt.xlim(int(dataset.values[:, 0].min() - GRAPH_EXPAND_VAL), 100)\n",
    "plt.ylim(int(dataset.values[:, 1].min() - GRAPH_EXPAND_VAL), 100)\n",
    "plt.title(\"Admittance vs Test Scores\")\n",
    "plt.xlabel(\"Test 1 Score\")\n",
    "plt.ylabel(\"Test 2 Score\")\n",
    "\n",
    "admitted_patch = mpatches.Patch(color=\"yellow\", label=\"Admitted\")\n",
    "non_admitted_patch = mpatches.Patch(color=\"blue\", label=\"Not Admitted\")\n",
    "\n",
    "plt.legend(handles=[admitted_patch, non_admitted_patch], prop={\"size\": 5.5})\n",
    "\n",
    "plt.show()"
   ]
  },
  {
   "cell_type": "code",
   "execution_count": null,
   "metadata": {
    "collapsed": true
   },
   "outputs": [],
   "source": [
    "# Implement sigmoid(z) where z is [X X X] if 3 thetas"
   ]
  }
 ],
 "metadata": {
  "anaconda-cloud": {},
  "kernelspec": {
   "display_name": "Python [conda root]",
   "language": "python",
   "name": "conda-root-py"
  },
  "language_info": {
   "codemirror_mode": {
    "name": "ipython",
    "version": 3
   },
   "file_extension": ".py",
   "mimetype": "text/x-python",
   "name": "python",
   "nbconvert_exporter": "python",
   "pygments_lexer": "ipython3",
   "version": "3.5.2"
  }
 },
 "nbformat": 4,
 "nbformat_minor": 1
}
