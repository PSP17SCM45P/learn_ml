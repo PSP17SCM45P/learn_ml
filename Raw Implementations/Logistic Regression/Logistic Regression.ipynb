{
 "cells": [
  {
   "cell_type": "markdown",
   "metadata": {},
   "source": [
    "# Homework 2 - Logistic Regression\n",
    "In Andrew Ng's course, we learned about logistic regression, a classification learning algorithm that will be used to solve the problem description.\n",
    "\n",
    "Problem description: In a dataset called \"ex2data1.txt\", there are two tests grades of a student and their acceptance into the college in a training example.\n",
    "\n",
    "Example:   85.38384, 28.3884, 0\n",
    "\n",
    "Build a classification model that estimates an applicant's probability of admission based on the scores of the two provided exams."
   ]
  },
  {
   "cell_type": "markdown",
   "metadata": {},
   "source": [
    "## Preprocessing"
   ]
  },
  {
   "cell_type": "code",
   "execution_count": 125,
   "metadata": {
    "collapsed": true
   },
   "outputs": [],
   "source": [
    "import numpy as np\n",
    "import pandas as pd\n",
    "import matplotlib.pyplot as plt\n",
    "import matplotlib.patches as mpatches\n",
    "import math"
   ]
  },
  {
   "cell_type": "code",
   "execution_count": 126,
   "metadata": {
    "collapsed": false
   },
   "outputs": [
    {
     "data": {
      "text/html": [
       "<div>\n",
       "<table border=\"1\" class=\"dataframe\">\n",
       "  <thead>\n",
       "    <tr style=\"text-align: right;\">\n",
       "      <th></th>\n",
       "      <th>Test Score 1</th>\n",
       "      <th>Test Score 2</th>\n",
       "      <th>Admittance</th>\n",
       "    </tr>\n",
       "  </thead>\n",
       "  <tbody>\n",
       "    <tr>\n",
       "      <th>0</th>\n",
       "      <td>34.623660</td>\n",
       "      <td>78.024693</td>\n",
       "      <td>0</td>\n",
       "    </tr>\n",
       "    <tr>\n",
       "      <th>1</th>\n",
       "      <td>30.286711</td>\n",
       "      <td>43.894998</td>\n",
       "      <td>0</td>\n",
       "    </tr>\n",
       "    <tr>\n",
       "      <th>2</th>\n",
       "      <td>35.847409</td>\n",
       "      <td>72.902198</td>\n",
       "      <td>0</td>\n",
       "    </tr>\n",
       "    <tr>\n",
       "      <th>3</th>\n",
       "      <td>60.182599</td>\n",
       "      <td>86.308552</td>\n",
       "      <td>1</td>\n",
       "    </tr>\n",
       "    <tr>\n",
       "      <th>4</th>\n",
       "      <td>79.032736</td>\n",
       "      <td>75.344376</td>\n",
       "      <td>1</td>\n",
       "    </tr>\n",
       "  </tbody>\n",
       "</table>\n",
       "</div>"
      ],
      "text/plain": [
       "   Test Score 1  Test Score 2  Admittance\n",
       "0     34.623660     78.024693           0\n",
       "1     30.286711     43.894998           0\n",
       "2     35.847409     72.902198           0\n",
       "3     60.182599     86.308552           1\n",
       "4     79.032736     75.344376           1"
      ]
     },
     "execution_count": 126,
     "metadata": {},
     "output_type": "execute_result"
    }
   ],
   "source": [
    "dataset = pd.read_csv(\"ex2data1.txt\", header=None)\n",
    "dataset.columns = [\"Test Score 1\", \"Test Score 2\", \"Admittance\"]\n",
    "dataset.head()"
   ]
  },
  {
   "cell_type": "code",
   "execution_count": 127,
   "metadata": {
    "collapsed": false
   },
   "outputs": [
    {
     "data": {
      "text/html": [
       "<div>\n",
       "<table border=\"1\" class=\"dataframe\">\n",
       "  <thead>\n",
       "    <tr style=\"text-align: right;\">\n",
       "      <th></th>\n",
       "      <th>Test Score 1</th>\n",
       "      <th>Test Score 2</th>\n",
       "      <th>Admittance</th>\n",
       "    </tr>\n",
       "  </thead>\n",
       "  <tbody>\n",
       "    <tr>\n",
       "      <th>count</th>\n",
       "      <td>100.000000</td>\n",
       "      <td>100.000000</td>\n",
       "      <td>100.000000</td>\n",
       "    </tr>\n",
       "    <tr>\n",
       "      <th>mean</th>\n",
       "      <td>65.644274</td>\n",
       "      <td>66.221998</td>\n",
       "      <td>0.600000</td>\n",
       "    </tr>\n",
       "    <tr>\n",
       "      <th>std</th>\n",
       "      <td>19.458222</td>\n",
       "      <td>18.582783</td>\n",
       "      <td>0.492366</td>\n",
       "    </tr>\n",
       "    <tr>\n",
       "      <th>min</th>\n",
       "      <td>30.058822</td>\n",
       "      <td>30.603263</td>\n",
       "      <td>0.000000</td>\n",
       "    </tr>\n",
       "    <tr>\n",
       "      <th>25%</th>\n",
       "      <td>50.919511</td>\n",
       "      <td>48.179205</td>\n",
       "      <td>0.000000</td>\n",
       "    </tr>\n",
       "    <tr>\n",
       "      <th>50%</th>\n",
       "      <td>67.032988</td>\n",
       "      <td>67.682381</td>\n",
       "      <td>1.000000</td>\n",
       "    </tr>\n",
       "    <tr>\n",
       "      <th>75%</th>\n",
       "      <td>80.212529</td>\n",
       "      <td>79.360605</td>\n",
       "      <td>1.000000</td>\n",
       "    </tr>\n",
       "    <tr>\n",
       "      <th>max</th>\n",
       "      <td>99.827858</td>\n",
       "      <td>98.869436</td>\n",
       "      <td>1.000000</td>\n",
       "    </tr>\n",
       "  </tbody>\n",
       "</table>\n",
       "</div>"
      ],
      "text/plain": [
       "       Test Score 1  Test Score 2  Admittance\n",
       "count    100.000000    100.000000  100.000000\n",
       "mean      65.644274     66.221998    0.600000\n",
       "std       19.458222     18.582783    0.492366\n",
       "min       30.058822     30.603263    0.000000\n",
       "25%       50.919511     48.179205    0.000000\n",
       "50%       67.032988     67.682381    1.000000\n",
       "75%       80.212529     79.360605    1.000000\n",
       "max       99.827858     98.869436    1.000000"
      ]
     },
     "execution_count": 127,
     "metadata": {},
     "output_type": "execute_result"
    }
   ],
   "source": [
    "dataset.describe()"
   ]
  },
  {
   "cell_type": "code",
   "execution_count": 128,
   "metadata": {
    "collapsed": false
   },
   "outputs": [
    {
     "name": "stdout",
     "output_type": "stream",
     "text": [
      "[ 34.62365962451697 78.0246928153624 ] [ 0 ]\n",
      "[ 30.28671076822607 43.894997524001006 ] [ 0 ]\n",
      "[ 35.84740876993872 72.90219802708364 ] [ 0 ]\n",
      "[ 60.18259938620975 86.30855209546827 ] [ 1 ]\n",
      "[ 79.0327360507101 75.3443764369103 ] [ 1 ]\n",
      "[ 45.083277476683385 56.316371781530506 ] [ 0 ]\n",
      "[ 61.10666453684766 96.51142588489624 ] [ 1 ]\n",
      "[ 75.02474556738889 46.55401354116538 ] [ 1 ]\n",
      "[ 76.09878670226256 87.42056971926803 ] [ 1 ]\n",
      "[ 84.43281996120034 43.533393310721095 ] [ 1 ]\n"
     ]
    }
   ],
   "source": [
    "X_matrix_original = dataset.iloc[:, [0, 1]].values\n",
    "Y_matrix_original = dataset.iloc[:, [-1]].values\n",
    "\n",
    "# For visualization, look at just the first 10.\n",
    "for i in range(10):\n",
    "    print(\"[ {} {} ] [ {} ]\".format(X_matrix_original[i][0], \\\n",
    "                                    X_matrix_original[i][1], \\\n",
    "                                    Y_matrix_original[i][0]))"
   ]
  },
  {
   "cell_type": "markdown",
   "metadata": {},
   "source": [
    "## Visualization"
   ]
  },
  {
   "cell_type": "code",
   "execution_count": 129,
   "metadata": {
    "collapsed": false
   },
   "outputs": [],
   "source": [
    "# Select all rows with admittance (1)\n",
    "admitted_matrix = np.array([[1.0, 1.0, 1.0]])\n",
    "for row in dataset.values:\n",
    "    if row[2] == 1.0:\n",
    "        admitted_matrix = np.append(admitted_matrix, np.expand_dims(row, axis=0), \\\n",
    "                                    axis=0)\n",
    "admitted_matrix = admitted_matrix[1:, :]\n",
    "\n",
    "# Select all rows with non-admittnce (0)\n",
    "non_admitted_matrix = np.array([[1.0, 1.0, 1.0]])\n",
    "for row in dataset.values:\n",
    "    if row[2] == 0.0:\n",
    "        non_admitted_matrix = np.append(non_admitted_matrix, \\\n",
    "                                          np.expand_dims(row, axis=0), \\\n",
    "                                          axis=0)\n",
    "non_admitted_matrix = non_admitted_matrix[1:, :]"
   ]
  },
  {
   "cell_type": "code",
   "execution_count": 130,
   "metadata": {
    "collapsed": false
   },
   "outputs": [
    {
     "data": {
      "image/png": "[encoded data removed]",
      "text/plain": [
       "<matplotlib.figure.Figure at 0x1159a5320>"
      ]
     },
     "metadata": {},
     "output_type": "display_data"
    }
   ],
   "source": [
    "plt.plot(admitted_matrix[:, 0], admitted_matrix[:, 1], \"ys\", \\\n",
    "            non_admitted_matrix[:, 0], non_admitted_matrix[:, 1], \"bs\")\n",
    "GRAPH_EXPAND_VAL = 5\n",
    "plt.xlim(int(dataset.values[:, 0].min() - GRAPH_EXPAND_VAL), 100)\n",
    "plt.ylim(int(dataset.values[:, 1].min() - GRAPH_EXPAND_VAL), 100)\n",
    "plt.title(\"Admittance vs Test Scores\")\n",
    "plt.xlabel(\"Test 1 Score\")\n",
    "plt.ylabel(\"Test 2 Score\")\n",
    "\n",
    "admitted_patch = mpatches.Patch(color=\"yellow\", label=\"Admitted\")\n",
    "non_admitted_patch = mpatches.Patch(color=\"blue\", label=\"Not Admitted\")\n",
    "\n",
    "plt.legend(handles=[admitted_patch, non_admitted_patch], prop={\"size\": 5.5})\n",
    "\n",
    "plt.show()"
   ]
  },
  {
   "cell_type": "markdown",
   "metadata": {},
   "source": [
    "## Sigmoid Function"
   ]
  },
  {
   "cell_type": "markdown",
   "metadata": {},
   "source": [
    "The sigmoid function serves the purpose of reducing the value of our hypothesis in between 0 and 1. Prior to logistic regression, it was proposed that we could attempt to fit a linear regressor through a binary classification problem set. We found that one of the problems with this approach was that the regressor often exceeded or dropped below the 2 values of the binary classification system -- the sigmoid function solves this problem by transforing our function.\n",
    "\n",
    "<center><h2>$g(z) = \\frac{1}{1 + e^{-z}}$</h2></center>"
   ]
  },
  {
   "cell_type": "code",
   "execution_count": 131,
   "metadata": {
    "collapsed": false
   },
   "outputs": [],
   "source": [
    "def sigmoid(z):\n",
    "    return 1 / (1 + np.exp(-z))"
   ]
  },
  {
   "cell_type": "markdown",
   "metadata": {},
   "source": [
    "## Cost Function for Logistic Regression"
   ]
  },
  {
   "cell_type": "markdown",
   "metadata": {},
   "source": [
    "It is evident that the cost function for logistic regression judges the hypothesis function based off of its promiximity to the actual 1 or 0 value it should predict. For that reason, we use log and constrain its view from 0 to 1 to judge the prediction\n",
    "\n",
    "<center><h2>$ J(Θ) = -\\frac{1}{m} [ \\sum y \\log(h(x)) + (1-y)\\log(1-h(x)) ]$</h2></center>"
   ]
  },
  {
   "cell_type": "code",
   "execution_count": 132,
   "metadata": {
    "collapsed": false
   },
   "outputs": [],
   "source": [
    "X_final = np.append(np.ones((X_matrix_original[:, [0]].size, 1)), X_matrix_original, axis=1)\n",
    "Y_final = Y_matrix_original.copy().ravel()"
   ]
  },
  {
   "cell_type": "code",
   "execution_count": 133,
   "metadata": {
    "collapsed": false
   },
   "outputs": [],
   "source": [
    "# OLD\n",
    "def cost_function_OLD(parameters, X, Y):\n",
    "    examples_count = Y.size\n",
    "    inner_result = 0\n",
    "    \n",
    "    for i in range(examples_count):\n",
    "        inner_result = inner_result + (Y[i] * math.log(sigmoid(np.dot(X[i, :], parameters))) \\\n",
    "                        + (1 - Y[i]) * math.log(1 - sigmoid(np.dot(X[i, :], parameters))))\n",
    "    cost = (-1 / examples_count) * inner_result\n",
    "    return cost"
   ]
  },
  {
   "cell_type": "code",
   "execution_count": 134,
   "metadata": {
    "collapsed": true
   },
   "outputs": [],
   "source": [
    "def cost_function(parameters, X, Y):\n",
    "    examples_count = Y.size\n",
    "    \n",
    "    result = (Y * np.log(sigmoid(np.dot(X, parameters))) \\\n",
    "                        + (1 - Y) * np.log(1 - sigmoid(np.dot(X, parameters)))).sum()\n",
    "    cost = (-1 / examples_count) * result\n",
    "    return cost"
   ]
  },
  {
   "cell_type": "code",
   "execution_count": 135,
   "metadata": {
    "collapsed": false
   },
   "outputs": [
    {
     "name": "stdout",
     "output_type": "stream",
     "text": [
      "With h(x) = 0*θ0 + 0*θ1 + 0*θ2, a cost of 0.6931471805599453 is calculated.\n"
     ]
    }
   ],
   "source": [
    "cost_trial_1 = cost_function(np.array([0.0, 0.0, 0.0]), X_final, Y_final)\n",
    "print(\"With h(x) = 0*θ0 + 0*θ1 + 0*θ2, a cost of {} is calculated.\".format(cost_trial_1))"
   ]
  },
  {
   "cell_type": "code",
   "execution_count": 136,
   "metadata": {
    "collapsed": false
   },
   "outputs": [
    {
     "name": "stdout",
     "output_type": "stream",
     "text": [
      "With h(x) = 0*θ0 + 0*θ1 + 0*θ2, a cost of 0.693147180559946 is calculated.\n"
     ]
    }
   ],
   "source": [
    "cost_trial_1 = cost_function_OLD(np.array([0.0, 0.0, 0.0]), X_final, Y_final)\n",
    "print(\"With h(x) = 0*θ0 + 0*θ1 + 0*θ2, a cost of {} is calculated.\".format(cost_trial_1))"
   ]
  },
  {
   "cell_type": "code",
   "execution_count": 137,
   "metadata": {
    "collapsed": false
   },
   "outputs": [
    {
     "name": "stdout",
     "output_type": "stream",
     "text": [
      "With h(x) = -24*θ0 + 0.2*θ1 + 0.2*θ2, a cost of 0.21833019382659796 is calculated.\n"
     ]
    }
   ],
   "source": [
    "# This changed massively after feature scaling\n",
    "cost_trial_2 = cost_function(np.array([-24, 0.2, 0.2]), X_final, Y_final)\n",
    "print(\"With h(x) = -24*θ0 + 0.2*θ1 + 0.2*θ2, a cost of {} is calculated.\".format(cost_trial_2))"
   ]
  },
  {
   "cell_type": "code",
   "execution_count": 138,
   "metadata": {
    "collapsed": false
   },
   "outputs": [
    {
     "name": "stdout",
     "output_type": "stream",
     "text": [
      "With h(x) = -24*θ0 + 0.2*θ1 + 0.2*θ2, a cost of 0.21833019382659788 is calculated.\n"
     ]
    }
   ],
   "source": [
    "cost_trial_2 = cost_function_OLD(np.array([-24, 0.2, 0.2]), X_final, Y_final)\n",
    "print(\"With h(x) = -24*θ0 + 0.2*θ1 + 0.2*θ2, a cost of {} is calculated.\".format(cost_trial_2))"
   ]
  },
  {
   "cell_type": "markdown",
   "metadata": {},
   "source": [
    "# Gradient Descent for Logistic Regression"
   ]
  },
  {
   "cell_type": "markdown",
   "metadata": {},
   "source": [
    "Because the new cost function allows for a convex curve on the J(θ) vs θ curve, we can still use a learning algorithm like gradient descent to optimize θ.\n",
    "\n",
    "![Image](http://2.bp.blogspot.com/-ZxJ87cWjPJ8/TtLtwqv0hCI/AAAAAAAAAV0/9FYqcxJ6dNY/s1600/gradient+descent+algorithm+OLS.png)"
   ]
  },
  {
   "cell_type": "code",
   "execution_count": 139,
   "metadata": {
    "collapsed": false
   },
   "outputs": [],
   "source": [
    "def gradient_descent(X, Y, init_parameters, alpha, iters):\n",
    "    examples_count = X[:, 0].size # 100\n",
    "    update_parameters = init_parameters.copy() # [ 0 0 0 ]\n",
    "    cost_vector = np.zeros(iters) \n",
    "    \n",
    "    for i in range(iters):\n",
    "        raw_difference = sigmoid(np.dot(X, update_parameters.T)) - Y # proposed vetorized implem\n",
    "        for j in range(len(update_parameters)):\n",
    "            inner_term = np.multiply(raw_difference, X[:, j]).sum()\n",
    "            init_parameters[j] = update_parameters[j] - (alpha * (1 / examples_count)) * inner_term\n",
    "        \n",
    "        # Note, parameter changes don't have to be simultaneous with my implementation, here.\n",
    "        update_parameters = init_parameters.copy()\n",
    "        cost_vector[i] = cost_function(update_parameters, X, Y)\n",
    "    \n",
    "    return cost_vector, update_parameters"
   ]
  },
  {
   "cell_type": "markdown",
   "metadata": {},
   "source": [
    "#### Note: The parameter values chosen below were found after running {0-9},000,000 iterations of gradient descent!\n",
    "Due to this, in the section after discussing the decision boundary, we'll look at an advanced optimization method that will allow us to more quickly reach our ideal parameter values.\n",
    "\n",
    "Note: It can also be noted that a normal equation method could have been used to find these parameters."
   ]
  },
  {
   "cell_type": "code",
   "execution_count": 140,
   "metadata": {
    "collapsed": false
   },
   "outputs": [],
   "source": [
    "cost_vector, parameters = gradient_descent(X_final, Y_final, np.array([-24.01828676,   0.19709041,   0.19222144]), .0028, 1)"
   ]
  },
  {
   "cell_type": "code",
   "execution_count": 141,
   "metadata": {
    "collapsed": false
   },
   "outputs": [
    {
     "data": {
      "text/plain": [
       "array([ 0.20369987])"
      ]
     },
     "execution_count": 141,
     "metadata": {},
     "output_type": "execute_result"
    }
   ],
   "source": [
    "cost_vector"
   ]
  },
  {
   "cell_type": "code",
   "execution_count": 142,
   "metadata": {
    "collapsed": false
   },
   "outputs": [
    {
     "data": {
      "text/plain": [
       "array([-24.01828777,   0.19709042,   0.19222145])"
      ]
     },
     "execution_count": 142,
     "metadata": {},
     "output_type": "execute_result"
    }
   ],
   "source": [
    "parameters"
   ]
  },
  {
   "cell_type": "markdown",
   "metadata": {},
   "source": [
    "## Finding the Decision Boundary\n",
    "So, we've implemented gradient descent and the cost function, and we're getting ready to draw the decision boundary. So, how do we draw it? Recall that the decision boundary is drawn where \"z\" is equal to 0. The \"z\" value is the value sent into the sigmoid function.\n",
    "\n",
    "<center><h2>$g(z) = \\frac{1}{1 + e^{-z}}$</h2></center>\n",
    "\n",
    "It is crucial to recall that the value of z is the dot product of the transpose of Θ and X. In mathematical terms:\n",
    "\n",
    "<center>$z = Θ^{T} X$</center>\n",
    "\n",
    "Now, we can solve for Z = Θ.T X = 0 to find our decision boundary!"
   ]
  },
  {
   "cell_type": "code",
   "execution_count": 143,
   "metadata": {
    "collapsed": true
   },
   "outputs": [],
   "source": [
    "#array([-24.01828777,   0.19709042,   0.19222145])\n",
    "coeff1 = 0.19709042 / -0.19222145\n",
    "coeff2 = -24.01828777 / -0.19222145"
   ]
  },
  {
   "cell_type": "code",
   "execution_count": 144,
   "metadata": {
    "collapsed": false
   },
   "outputs": [],
   "source": [
    "X_final[:, [0, 1]]\n",
    "\n",
    "row1 = np.array(coeff1 * X_final[:, [1]])\n",
    "row2 = np.array(coeff2 * X_final[:, [0]])\n",
    "\n",
    "predicted_x2_points = row1 + row2"
   ]
  },
  {
   "cell_type": "code",
   "execution_count": 145,
   "metadata": {
    "collapsed": false
   },
   "outputs": [
    {
     "data": {
      "image/png": "[encoded data removed]",
      "text/plain": [
       "<matplotlib.figure.Figure at 0x115904eb8>"
      ]
     },
     "metadata": {},
     "output_type": "display_data"
    }
   ],
   "source": [
    "plt.plot(admitted_matrix[:, 0], admitted_matrix[:, 1], \"ys\", \\\n",
    "            non_admitted_matrix[:, 0], non_admitted_matrix[:, 1], \"bs\")\n",
    "plt.plot(X_final[:, [0, 1]], predicted_x2_points, color=\"red\")\n",
    "GRAPH_EXPAND_VAL = 5\n",
    "plt.xlim(int(dataset.values[:, 0].min() - GRAPH_EXPAND_VAL), 100)\n",
    "plt.ylim(int(dataset.values[:, 1].min() - GRAPH_EXPAND_VAL), 100)\n",
    "plt.title(\"Admittance vs Test Scores\")\n",
    "plt.xlabel(\"Test 1 Score\")\n",
    "plt.ylabel(\"Test 2 Score\")\n",
    "\n",
    "admitted_patch = mpatches.Patch(color=\"yellow\", label=\"Admitted\")\n",
    "non_admitted_patch = mpatches.Patch(color=\"blue\", label=\"Not Admitted\")\n",
    "\n",
    "plt.legend(handles=[admitted_patch, non_admitted_patch], prop={\"size\": 5.5})\n",
    "\n",
    "plt.show()"
   ]
  },
  {
   "cell_type": "markdown",
   "metadata": {},
   "source": [
    "## Advanced Optimization Methods\n",
    "Now, let's take a look at using an advanced optimization method to find our parameters more quickly. Gradient Descent took about 5,000,000+ iterations to reach a satisfying decision boundary. It is clear, then, that using SciPy's optimize module could be of use to us. In specific, we'll look at the usage of fmin_tnc, a *conjugate gradient* method of optimization."
   ]
  },
  {
   "cell_type": "markdown",
   "metadata": {},
   "source": [
    "Before we run optimize's fmin_tnc function, we need to modify the cost function and gradient descent just a little bit. Here's a few things we have to do for scipy.optimize.fmin_tnc to work:\n",
    "\n",
    "1. Leave the iterations and alpha to fmin_tnc -- remove those parameters.\n",
    "2. Emulate a cost function and gradient descent that do one flat run (a.k.a. mimic one iteration)."
   ]
  },
  {
   "cell_type": "code",
   "execution_count": 146,
   "metadata": {
    "collapsed": true
   },
   "outputs": [],
   "source": [
    "def advanced_cost_function(parameters, X, y):\n",
    "    theta = np.expand_dims(parameters, axis=0)\n",
    "    y = np.expand_dims(y, axis=0)\n",
    "    examples_count = X[:, 0].shape[0]\n",
    "\n",
    "    inner_value = - (np.multiply(y, np.log(sigmoid(np.dot(X, theta.T)))) \\\n",
    "                                        + np.multiply((1 - y), np.log(1 - sigmoid(np.dot(X, theta.T)))))\n",
    "    return np.sum(inner_value) / examples_count"
   ]
  },
  {
   "cell_type": "code",
   "execution_count": 147,
   "metadata": {
    "collapsed": true
   },
   "outputs": [],
   "source": [
    "def advanced_gradient_descent(theta, X, y):\n",
    "    theta = np.expand_dims(theta, axis=0)\n",
    "    \n",
    "    parameters = 3\n",
    "    result_parameters = np.zeros((parameters, 1))\n",
    "    \n",
    "    raw_difference = sigmoid(np.dot(X, theta.T)) - y\n",
    "    \n",
    "    for i in range(parameters):\n",
    "        result_parameters[i] = np.multiply(raw_difference, X[:, [i]]).sum() / len(X)\n",
    "    \n",
    "    return result_parameters"
   ]
  },
  {
   "cell_type": "code",
   "execution_count": 148,
   "metadata": {
    "collapsed": true
   },
   "outputs": [],
   "source": [
    "from scipy import optimize"
   ]
  },
  {
   "cell_type": "code",
   "execution_count": 149,
   "metadata": {
    "collapsed": false
   },
   "outputs": [],
   "source": [
    "advanced_parameters_results = optimize.fmin_tnc(func=advanced_cost_function, x0=np.zeros((1,3)), fprime=advanced_gradient_descent, args=(X_final, np.expand_dims(Y_final, axis=1)))"
   ]
  },
  {
   "cell_type": "code",
   "execution_count": 150,
   "metadata": {
    "collapsed": false
   },
   "outputs": [
    {
     "data": {
      "text/plain": [
       "(array([-25.16131866,   0.20623159,   0.20147149]), 36, 0)"
      ]
     },
     "execution_count": 150,
     "metadata": {},
     "output_type": "execute_result"
    }
   ],
   "source": [
    "advanced_parameters_results"
   ]
  },
  {
   "cell_type": "code",
   "execution_count": 151,
   "metadata": {
    "collapsed": false
   },
   "outputs": [
    {
     "data": {
      "text/plain": [
       "0.20349770158947444"
      ]
     },
     "execution_count": 151,
     "metadata": {},
     "output_type": "execute_result"
    }
   ],
   "source": [
    "cost_function(advanced_parameters_results[0], X_final, Y_final)"
   ]
  }
 ],
 "metadata": {
  "anaconda-cloud": {},
  "kernelspec": {
   "display_name": "Python [conda root]",
   "language": "python",
   "name": "conda-root-py"
  },
  "language_info": {
   "codemirror_mode": {
    "name": "ipython",
    "version": 3
   },
   "file_extension": ".py",
   "mimetype": "text/x-python",
   "name": "python",
   "nbconvert_exporter": "python",
   "pygments_lexer": "ipython3",
   "version": "3.5.2"
  }
 },
 "nbformat": 4,
 "nbformat_minor": 1
}
