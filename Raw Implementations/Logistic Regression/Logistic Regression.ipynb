{
 "cells": [
  {
   "cell_type": "markdown",
   "metadata": {},
   "source": [
    "# Homework 2 - Logistic Regression\n",
    "In Andrew Ng's course, we learned about logistic regression, a classification learning algorithm that will be used to solve the problem description.\n",
    "\n",
    "Problem description: In a dataset called \"ex2data1.txt\", there are two tests grades of a student and their acceptance into the college in a training example.\n",
    "\n",
    "Example:   85.38384, 28.3884, 0\n",
    "\n",
    "Build a classification model that estimates an applicant's probability of admission based on the scores of the two provided exams."
   ]
  },
  {
   "cell_type": "markdown",
   "metadata": {},
   "source": [
    "## Preprocessing"
   ]
  },
  {
   "cell_type": "code",
   "execution_count": 454,
   "metadata": {
    "collapsed": true
   },
   "outputs": [],
   "source": [
    "import numpy as np\n",
    "import pandas as pd\n",
    "import matplotlib.pyplot as plt\n",
    "import matplotlib.patches as mpatches\n",
    "import math"
   ]
  },
  {
   "cell_type": "code",
   "execution_count": 455,
   "metadata": {
    "collapsed": false
   },
   "outputs": [
    {
     "data": {
      "text/html": [
       "<div>\n",
       "<table border=\"1\" class=\"dataframe\">\n",
       "  <thead>\n",
       "    <tr style=\"text-align: right;\">\n",
       "      <th></th>\n",
       "      <th>Test Score 1</th>\n",
       "      <th>Test Score 2</th>\n",
       "      <th>Admittance</th>\n",
       "    </tr>\n",
       "  </thead>\n",
       "  <tbody>\n",
       "    <tr>\n",
       "      <th>0</th>\n",
       "      <td>34.623660</td>\n",
       "      <td>78.024693</td>\n",
       "      <td>0</td>\n",
       "    </tr>\n",
       "    <tr>\n",
       "      <th>1</th>\n",
       "      <td>30.286711</td>\n",
       "      <td>43.894998</td>\n",
       "      <td>0</td>\n",
       "    </tr>\n",
       "    <tr>\n",
       "      <th>2</th>\n",
       "      <td>35.847409</td>\n",
       "      <td>72.902198</td>\n",
       "      <td>0</td>\n",
       "    </tr>\n",
       "    <tr>\n",
       "      <th>3</th>\n",
       "      <td>60.182599</td>\n",
       "      <td>86.308552</td>\n",
       "      <td>1</td>\n",
       "    </tr>\n",
       "    <tr>\n",
       "      <th>4</th>\n",
       "      <td>79.032736</td>\n",
       "      <td>75.344376</td>\n",
       "      <td>1</td>\n",
       "    </tr>\n",
       "  </tbody>\n",
       "</table>\n",
       "</div>"
      ],
      "text/plain": [
       "   Test Score 1  Test Score 2  Admittance\n",
       "0     34.623660     78.024693           0\n",
       "1     30.286711     43.894998           0\n",
       "2     35.847409     72.902198           0\n",
       "3     60.182599     86.308552           1\n",
       "4     79.032736     75.344376           1"
      ]
     },
     "execution_count": 455,
     "metadata": {},
     "output_type": "execute_result"
    }
   ],
   "source": [
    "dataset = pd.read_csv(\"ex2data1.txt\", header=None)\n",
    "dataset.columns = [\"Test Score 1\", \"Test Score 2\", \"Admittance\"]\n",
    "dataset.head()"
   ]
  },
  {
   "cell_type": "code",
   "execution_count": 456,
   "metadata": {
    "collapsed": false
   },
   "outputs": [
    {
     "data": {
      "text/html": [
       "<div>\n",
       "<table border=\"1\" class=\"dataframe\">\n",
       "  <thead>\n",
       "    <tr style=\"text-align: right;\">\n",
       "      <th></th>\n",
       "      <th>Test Score 1</th>\n",
       "      <th>Test Score 2</th>\n",
       "      <th>Admittance</th>\n",
       "    </tr>\n",
       "  </thead>\n",
       "  <tbody>\n",
       "    <tr>\n",
       "      <th>count</th>\n",
       "      <td>100.000000</td>\n",
       "      <td>100.000000</td>\n",
       "      <td>100.000000</td>\n",
       "    </tr>\n",
       "    <tr>\n",
       "      <th>mean</th>\n",
       "      <td>65.644274</td>\n",
       "      <td>66.221998</td>\n",
       "      <td>0.600000</td>\n",
       "    </tr>\n",
       "    <tr>\n",
       "      <th>std</th>\n",
       "      <td>19.458222</td>\n",
       "      <td>18.582783</td>\n",
       "      <td>0.492366</td>\n",
       "    </tr>\n",
       "    <tr>\n",
       "      <th>min</th>\n",
       "      <td>30.058822</td>\n",
       "      <td>30.603263</td>\n",
       "      <td>0.000000</td>\n",
       "    </tr>\n",
       "    <tr>\n",
       "      <th>25%</th>\n",
       "      <td>50.919511</td>\n",
       "      <td>48.179205</td>\n",
       "      <td>0.000000</td>\n",
       "    </tr>\n",
       "    <tr>\n",
       "      <th>50%</th>\n",
       "      <td>67.032988</td>\n",
       "      <td>67.682381</td>\n",
       "      <td>1.000000</td>\n",
       "    </tr>\n",
       "    <tr>\n",
       "      <th>75%</th>\n",
       "      <td>80.212529</td>\n",
       "      <td>79.360605</td>\n",
       "      <td>1.000000</td>\n",
       "    </tr>\n",
       "    <tr>\n",
       "      <th>max</th>\n",
       "      <td>99.827858</td>\n",
       "      <td>98.869436</td>\n",
       "      <td>1.000000</td>\n",
       "    </tr>\n",
       "  </tbody>\n",
       "</table>\n",
       "</div>"
      ],
      "text/plain": [
       "       Test Score 1  Test Score 2  Admittance\n",
       "count    100.000000    100.000000  100.000000\n",
       "mean      65.644274     66.221998    0.600000\n",
       "std       19.458222     18.582783    0.492366\n",
       "min       30.058822     30.603263    0.000000\n",
       "25%       50.919511     48.179205    0.000000\n",
       "50%       67.032988     67.682381    1.000000\n",
       "75%       80.212529     79.360605    1.000000\n",
       "max       99.827858     98.869436    1.000000"
      ]
     },
     "execution_count": 456,
     "metadata": {},
     "output_type": "execute_result"
    }
   ],
   "source": [
    "dataset.describe()"
   ]
  },
  {
   "cell_type": "code",
   "execution_count": 457,
   "metadata": {
    "collapsed": false
   },
   "outputs": [
    {
     "name": "stdout",
     "output_type": "stream",
     "text": [
      "[ 34.62365962451697 78.0246928153624 ] [ 0 ]\n",
      "[ 30.28671076822607 43.894997524001006 ] [ 0 ]\n",
      "[ 35.84740876993872 72.90219802708364 ] [ 0 ]\n",
      "[ 60.18259938620975 86.30855209546827 ] [ 1 ]\n",
      "[ 79.0327360507101 75.3443764369103 ] [ 1 ]\n",
      "[ 45.083277476683385 56.316371781530506 ] [ 0 ]\n",
      "[ 61.10666453684766 96.51142588489624 ] [ 1 ]\n",
      "[ 75.02474556738889 46.55401354116538 ] [ 1 ]\n",
      "[ 76.09878670226256 87.42056971926803 ] [ 1 ]\n",
      "[ 84.43281996120034 43.533393310721095 ] [ 1 ]\n"
     ]
    }
   ],
   "source": [
    "X_matrix_original = dataset.iloc[:, [0, 1]].values\n",
    "Y_matrix_original = dataset.iloc[:, [-1]].values\n",
    "\n",
    "# For visualization, look at just the first 10.\n",
    "for i in range(10):\n",
    "    print(\"[ {} {} ] [ {} ]\".format(X_matrix_original[i][0], \\\n",
    "                                    X_matrix_original[i][1], \\\n",
    "                                    Y_matrix_original[i][0]))"
   ]
  },
  {
   "cell_type": "markdown",
   "metadata": {},
   "source": [
    "## Visualization"
   ]
  },
  {
   "cell_type": "code",
   "execution_count": 458,
   "metadata": {
    "collapsed": false
   },
   "outputs": [],
   "source": [
    "# Select all rows with admittance (1)\n",
    "admitted_matrix = np.array([[1.0, 1.0, 1.0]])\n",
    "for row in dataset.values:\n",
    "    if row[2] == 1.0:\n",
    "        admitted_matrix = np.append(admitted_matrix, np.expand_dims(row, axis=0), \\\n",
    "                                    axis=0)\n",
    "admitted_matrix = admitted_matrix[1:, :]\n",
    "\n",
    "# Select all rows with non-admittnce (0)\n",
    "non_admitted_matrix = np.array([[1.0, 1.0, 1.0]])\n",
    "for row in dataset.values:\n",
    "    if row[2] == 0.0:\n",
    "        non_admitted_matrix = np.append(non_admitted_matrix, \\\n",
    "                                          np.expand_dims(row, axis=0), \\\n",
    "                                          axis=0)\n",
    "non_admitted_matrix = non_admitted_matrix[1:, :]"
   ]
  },
  {
   "cell_type": "code",
   "execution_count": 459,
   "metadata": {
    "collapsed": false
   },
   "outputs": [
    {
     "data": {
      "image/png": "[encoded data removed]",
      "text/plain": [
       "<matplotlib.figure.Figure at 0x117e0ab70>"
      ]
     },
     "metadata": {},
     "output_type": "display_data"
    }
   ],
   "source": [
    "plt.plot(admitted_matrix[:, 0], admitted_matrix[:, 1], \"ys\", \\\n",
    "            non_admitted_matrix[:, 0], non_admitted_matrix[:, 1], \"bs\")\n",
    "GRAPH_EXPAND_VAL = 5\n",
    "plt.xlim(int(dataset.values[:, 0].min() - GRAPH_EXPAND_VAL), 100)\n",
    "plt.ylim(int(dataset.values[:, 1].min() - GRAPH_EXPAND_VAL), 100)\n",
    "plt.title(\"Admittance vs Test Scores\")\n",
    "plt.xlabel(\"Test 1 Score\")\n",
    "plt.ylabel(\"Test 2 Score\")\n",
    "\n",
    "admitted_patch = mpatches.Patch(color=\"yellow\", label=\"Admitted\")\n",
    "non_admitted_patch = mpatches.Patch(color=\"blue\", label=\"Not Admitted\")\n",
    "\n",
    "plt.legend(handles=[admitted_patch, non_admitted_patch], prop={\"size\": 5.5})\n",
    "\n",
    "plt.show()"
   ]
  },
  {
   "cell_type": "markdown",
   "metadata": {},
   "source": [
    "## Sigmoid Function"
   ]
  },
  {
   "cell_type": "markdown",
   "metadata": {},
   "source": [
    "The sigmoid function serves the purpose of reducing the value of our hypothesis in between 0 and 1. Prior to logistic regression, it was proposed that we could attempt to fit a linear regressor through a binary classification problem set. We found that one of the problems with this approach was that the regressor often exceeded or dropped below the 2 values of the binary classification system -- the sigmoid function solves this problem by transforing our function.\n",
    "\n",
    "<center><h2>$g(z) = \\frac{1}{1 + e^{-z}}$</h2></center>"
   ]
  },
  {
   "cell_type": "code",
   "execution_count": 460,
   "metadata": {
    "collapsed": false
   },
   "outputs": [],
   "source": [
    "def sigmoid(z):\n",
    "    return 1 / (1 + np.exp(-z))"
   ]
  },
  {
   "cell_type": "markdown",
   "metadata": {},
   "source": [
    "## Cost Function for Logistic Regression"
   ]
  },
  {
   "cell_type": "markdown",
   "metadata": {},
   "source": [
    "It is evident that the cost function for logistic regression judges the hypothesis function based off of its promiximity to the actual 1 or 0 value it should predict. For that reason, we use log and constrain its view from 0 to 1 to judge the prediction\n",
    "\n",
    "<center><h2>$ J(Θ) = -\\frac{1}{m} [ \\sum y \\log(h(x)) + (1-y)\\log(1-h(x)) ]$</h2></center>"
   ]
  },
  {
   "cell_type": "code",
   "execution_count": 461,
   "metadata": {
    "collapsed": false
   },
   "outputs": [],
   "source": [
    "X_final = np.append(np.ones((X_matrix_original[:, [0]].size, 1)), X_matrix_original, axis=1)\n",
    "Y_final = Y_matrix_original.copy().ravel()"
   ]
  },
  {
   "cell_type": "code",
   "execution_count": 462,
   "metadata": {
    "collapsed": false
   },
   "outputs": [],
   "source": [
    "# OLD\n",
    "def cost_function_OLD(parameters, X, Y):\n",
    "    examples_count = Y.size\n",
    "    inner_result = 0\n",
    "    \n",
    "    for i in range(examples_count):\n",
    "        inner_result = inner_result + (Y[i] * math.log(sigmoid(np.dot(X[i, :], parameters))) \\\n",
    "                        + (1 - Y[i]) * math.log(1 - sigmoid(np.dot(X[i, :], parameters))))\n",
    "    cost = (-1 / examples_count) * inner_result\n",
    "    return cost"
   ]
  },
  {
   "cell_type": "code",
   "execution_count": 463,
   "metadata": {
    "collapsed": true
   },
   "outputs": [],
   "source": [
    "def cost_function(parameters, X, Y):\n",
    "    examples_count = Y.size\n",
    "    \n",
    "    result = (Y * np.log(sigmoid(np.dot(X, parameters))) \\\n",
    "                        + (1 - Y) * np.log(1 - sigmoid(np.dot(X, parameters)))).sum()\n",
    "    cost = (-1 / examples_count) * result\n",
    "    return cost"
   ]
  },
  {
   "cell_type": "code",
   "execution_count": 464,
   "metadata": {
    "collapsed": false
   },
   "outputs": [
    {
     "name": "stdout",
     "output_type": "stream",
     "text": [
      "With h(x) = 0*θ0 + 0*θ1 + 0*θ2, a cost of 0.6931471805599453 is calculated.\n"
     ]
    }
   ],
   "source": [
    "cost_trial_1 = cost_function(np.array([0.0, 0.0, 0.0]), X_final, Y_final)\n",
    "print(\"With h(x) = 0*θ0 + 0*θ1 + 0*θ2, a cost of {} is calculated.\".format(cost_trial_1))"
   ]
  },
  {
   "cell_type": "code",
   "execution_count": 465,
   "metadata": {
    "collapsed": false
   },
   "outputs": [
    {
     "name": "stdout",
     "output_type": "stream",
     "text": [
      "With h(x) = 0*θ0 + 0*θ1 + 0*θ2, a cost of 0.693147180559946 is calculated.\n"
     ]
    }
   ],
   "source": [
    "cost_trial_1 = cost_function_OLD(np.array([0.0, 0.0, 0.0]), X_final, Y_final)\n",
    "print(\"With h(x) = 0*θ0 + 0*θ1 + 0*θ2, a cost of {} is calculated.\".format(cost_trial_1))"
   ]
  },
  {
   "cell_type": "code",
   "execution_count": 466,
   "metadata": {
    "collapsed": false
   },
   "outputs": [
    {
     "name": "stdout",
     "output_type": "stream",
     "text": [
      "With h(x) = -24*θ0 + 0.2*θ1 + 0.2*θ2, a cost of 0.21833019382659796 is calculated.\n"
     ]
    }
   ],
   "source": [
    "# This changed massively after feature scaling\n",
    "cost_trial_2 = cost_function(np.array([-24, 0.2, 0.2]), X_final, Y_final)\n",
    "print(\"With h(x) = -24*θ0 + 0.2*θ1 + 0.2*θ2, a cost of {} is calculated.\".format(cost_trial_2))"
   ]
  },
  {
   "cell_type": "code",
   "execution_count": 467,
   "metadata": {
    "collapsed": false
   },
   "outputs": [
    {
     "name": "stdout",
     "output_type": "stream",
     "text": [
      "With h(x) = -24*θ0 + 0.2*θ1 + 0.2*θ2, a cost of 0.21833019382659788 is calculated.\n"
     ]
    }
   ],
   "source": [
    "cost_trial_2 = cost_function_OLD(np.array([-24, 0.2, 0.2]), X_final, Y_final)\n",
    "print(\"With h(x) = -24*θ0 + 0.2*θ1 + 0.2*θ2, a cost of {} is calculated.\".format(cost_trial_2))"
   ]
  },
  {
   "cell_type": "markdown",
   "metadata": {},
   "source": [
    "# Gradient Descent for Logistic Regression"
   ]
  },
  {
   "cell_type": "markdown",
   "metadata": {},
   "source": [
    "Because the new cost function allows for a convex curve on the J(θ) vs θ curve, we can still use a learning algorithm like gradient descent to optimize θ.\n",
    "\n",
    "![Image](http://2.bp.blogspot.com/-ZxJ87cWjPJ8/TtLtwqv0hCI/AAAAAAAAAV0/9FYqcxJ6dNY/s1600/gradient+descent+algorithm+OLS.png)"
   ]
  },
  {
   "cell_type": "code",
   "execution_count": 468,
   "metadata": {
    "collapsed": false
   },
   "outputs": [],
   "source": [
    "def gradient_descent(X, Y, init_parameters, alpha, iters):\n",
    "    examples_count = X[:, 0].size # 100\n",
    "    update_parameters = init_parameters.copy() # [ 0 0 0 ]\n",
    "    cost_vector = np.zeros(iters) \n",
    "    \n",
    "    for i in range(iters):\n",
    "        raw_difference = sigmoid(np.dot(X, update_parameters.T)) - Y # proposed vetorized implem\n",
    "        for j in range(len(update_parameters)):\n",
    "            inner_term = np.multiply(raw_difference, X[:, j]).sum()\n",
    "            init_parameters[j] = update_parameters[j] - (alpha * (1 / examples_count)) * inner_term\n",
    "        \n",
    "        # Note, parameter changes don't have to be simultaneous with my implementation, here.\n",
    "        update_parameters = init_parameters.copy()\n",
    "        cost_vector[i] = cost_function(update_parameters, X, Y)\n",
    "    \n",
    "    return cost_vector, update_parameters"
   ]
  },
  {
   "cell_type": "markdown",
   "metadata": {},
   "source": [
    "#### Note: The parameter values chosen below were found after running {0-9},000,000 iterations of gradient descent!\n",
    "##### ** Edit: partially due to no feature scaling **\n",
    "Due to this, in the section after discussing the decision boundary, we'll look at an advanced optimization method that will allow us to more quickly reach our ideal parameter values.\n",
    "\n",
    "Note: It can also be noted that a normal equation method could have been used to find these parameters."
   ]
  },
  {
   "cell_type": "code",
   "execution_count": 469,
   "metadata": {
    "collapsed": false
   },
   "outputs": [],
   "source": [
    "cost_vector, parameters = gradient_descent(X_final, Y_final, np.array([-24.01828676,   0.19709041,   0.19222144]), .0028, 1)"
   ]
  },
  {
   "cell_type": "code",
   "execution_count": 470,
   "metadata": {
    "collapsed": false
   },
   "outputs": [
    {
     "data": {
      "text/plain": [
       "array([ 0.20369987])"
      ]
     },
     "execution_count": 470,
     "metadata": {},
     "output_type": "execute_result"
    }
   ],
   "source": [
    "cost_vector"
   ]
  },
  {
   "cell_type": "code",
   "execution_count": 471,
   "metadata": {
    "collapsed": false
   },
   "outputs": [
    {
     "data": {
      "text/plain": [
       "array([-24.01828777,   0.19709042,   0.19222145])"
      ]
     },
     "execution_count": 471,
     "metadata": {},
     "output_type": "execute_result"
    }
   ],
   "source": [
    "parameters"
   ]
  },
  {
   "cell_type": "markdown",
   "metadata": {},
   "source": [
    "## Finding the Decision Boundary\n",
    "So, we've implemented gradient descent and the cost function, and we're getting ready to draw the decision boundary. So, how do we draw it? Recall that the decision boundary is drawn where \"z\" is equal to 0. The \"z\" value is the value sent into the sigmoid function.\n",
    "\n",
    "<center><h2>$g(z) = \\frac{1}{1 + e^{-z}}$</h2></center>\n",
    "\n",
    "It is crucial to recall that the value of z is the dot product of the transpose of Θ and X. In mathematical terms:\n",
    "\n",
    "<center>$z = Θ^{T} X$</center>\n",
    "\n",
    "Now, we can solve for Z = Θ.T X = 0 to find our decision boundary!"
   ]
  },
  {
   "cell_type": "code",
   "execution_count": 472,
   "metadata": {
    "collapsed": true
   },
   "outputs": [],
   "source": [
    "#array([-24.01828777,   0.19709042,   0.19222145])\n",
    "coeff1 = 0.19709042 / -0.19222145\n",
    "coeff2 = -24.01828777 / -0.19222145"
   ]
  },
  {
   "cell_type": "code",
   "execution_count": 473,
   "metadata": {
    "collapsed": false
   },
   "outputs": [],
   "source": [
    "X_final[:, [0, 1]]\n",
    "\n",
    "row1 = np.array(coeff1 * X_final[:, [1]])\n",
    "row2 = np.array(coeff2 * X_final[:, [0]])\n",
    "\n",
    "predicted_x2_points = row1 + row2"
   ]
  },
  {
   "cell_type": "code",
   "execution_count": 474,
   "metadata": {
    "collapsed": false
   },
   "outputs": [
    {
     "data": {
      "image/png": "[encoded data removed]",
      "text/plain": [
       "<matplotlib.figure.Figure at 0x1176bf940>"
      ]
     },
     "metadata": {},
     "output_type": "display_data"
    }
   ],
   "source": [
    "plt.plot(admitted_matrix[:, 0], admitted_matrix[:, 1], \"ys\", \\\n",
    "            non_admitted_matrix[:, 0], non_admitted_matrix[:, 1], \"bs\")\n",
    "plt.plot(X_final[:, [0, 1]], predicted_x2_points, color=\"red\")\n",
    "GRAPH_EXPAND_VAL = 5\n",
    "plt.xlim(int(dataset.values[:, 0].min() - GRAPH_EXPAND_VAL), 100)\n",
    "plt.ylim(int(dataset.values[:, 1].min() - GRAPH_EXPAND_VAL), 100)\n",
    "plt.title(\"Admittance vs Test Scores\")\n",
    "plt.xlabel(\"Test 1 Score\")\n",
    "plt.ylabel(\"Test 2 Score\")\n",
    "\n",
    "admitted_patch = mpatches.Patch(color=\"yellow\", label=\"Admitted\")\n",
    "non_admitted_patch = mpatches.Patch(color=\"blue\", label=\"Not Admitted\")\n",
    "\n",
    "plt.legend(handles=[admitted_patch, non_admitted_patch], prop={\"size\": 5.5})\n",
    "\n",
    "plt.show()"
   ]
  },
  {
   "cell_type": "markdown",
   "metadata": {},
   "source": [
    "## Advanced Optimization Methods\n",
    "Now, let's take a look at using an advanced optimization method to find our parameters more quickly. Gradient Descent took about 5,000,000+ iterations to reach a satisfying decision boundary. It is clear, then, that using SciPy's optimize module could be of use to us. In specific, we'll look at the usage of fmin_tnc, a *conjugate gradient* method of optimization."
   ]
  },
  {
   "cell_type": "markdown",
   "metadata": {},
   "source": [
    "Before we run optimize's fmin_tnc function, we need to modify the cost function and gradient descent just a little bit. Here's a few things we have to do for scipy.optimize.fmin_tnc to work:\n",
    "\n",
    "1. Leave the iterations and alpha to fmin_tnc -- remove those parameters.\n",
    "2. Create 'func', a cost function that is vectorized.\n",
    "3. Create 'fprime', the derivative of the cost function (per parameter) --> minified gradient descent\n",
    "\n",
    "**Note:** the only reason the cost_function() defined above will not function with fmin_tnc() is simply because of the fact that the x0 keyword argument will always default the parameters to a vector. The above defined cost_function() does not take this into account, creating mathematical errors in the linear algebra, but still returning a cost."
   ]
  },
  {
   "cell_type": "code",
   "execution_count": 475,
   "metadata": {
    "collapsed": true
   },
   "outputs": [],
   "source": [
    "def advanced_cost_function(parameters, X, Y): # func\n",
    "    parameters = np.expand_dims(parameters, axis=0)\n",
    "    \n",
    "    inner_value = - (np.multiply(Y, np.log(sigmoid(np.dot(X, parameters.T)))) + \\\n",
    "                        np.multiply((1 - Y), np.log(1 - sigmoid(np.dot(X, parameters.T)))))\n",
    "    total_cost = inner_value.sum() / len(X) # a float\n",
    "    return total_cost"
   ]
  },
  {
   "cell_type": "code",
   "execution_count": 476,
   "metadata": {
    "collapsed": false
   },
   "outputs": [],
   "source": [
    "def derivative_cost_function(parameters, X, Y): # fprime\n",
    "    parameters = np.expand_dims(parameters, axis=0) # default is 1D, so we must expand_dims\n",
    "    result_parameters = np.zeros((parameters.shape[1], 1))\n",
    "    raw_difference = sigmoid(np.dot(X, parameters.T)) - Y\n",
    "    \n",
    "    for i in range(len(parameters.ravel())):\n",
    "        result_parameters[i] = np.multiply(raw_difference, X[:, [i]]).sum() / len(X)\n",
    "    \n",
    "    return result_parameters"
   ]
  },
  {
   "cell_type": "code",
   "execution_count": 477,
   "metadata": {
    "collapsed": true
   },
   "outputs": [],
   "source": [
    "from scipy import optimize"
   ]
  },
  {
   "cell_type": "code",
   "execution_count": 478,
   "metadata": {
    "collapsed": false
   },
   "outputs": [],
   "source": [
    "advanced_parameters_results = optimize.fmin_tnc(func=advanced_cost_function, x0=np.array([[0.0, 0.0, 0.0]]), fprime=derivative_cost_function, args=(X_final, np.expand_dims(Y_final, axis=1)))"
   ]
  },
  {
   "cell_type": "markdown",
   "metadata": {},
   "source": [
    "**What does fmin_tnc return?** scipy.optimize.fmin_tnc() returns a vector of the predicted parameters, iteration count, and a status code!"
   ]
  },
  {
   "cell_type": "code",
   "execution_count": 479,
   "metadata": {
    "collapsed": false
   },
   "outputs": [
    {
     "data": {
      "text/plain": [
       "(array([-25.16131866,   0.20623159,   0.20147149]), 36, 0)"
      ]
     },
     "execution_count": 479,
     "metadata": {},
     "output_type": "execute_result"
    }
   ],
   "source": [
    "advanced_parameters_results"
   ]
  },
  {
   "cell_type": "code",
   "execution_count": 480,
   "metadata": {
    "collapsed": false
   },
   "outputs": [],
   "source": [
    "param0 = advanced_parameters_results[0][0]\n",
    "param1 = advanced_parameters_results[0][1]\n",
    "param2 = advanced_parameters_results[0][2]"
   ]
  },
  {
   "cell_type": "code",
   "execution_count": 481,
   "metadata": {
    "collapsed": false
   },
   "outputs": [
    {
     "data": {
      "text/plain": [
       "0.20349770158947444"
      ]
     },
     "execution_count": 481,
     "metadata": {},
     "output_type": "execute_result"
    }
   ],
   "source": [
    "cost_function(advanced_parameters_results[0], X_final, Y_final)"
   ]
  },
  {
   "cell_type": "code",
   "execution_count": 482,
   "metadata": {
    "collapsed": false
   },
   "outputs": [
    {
     "data": {
      "image/png": "[encoded data removed]",
      "text/plain": [
       "<matplotlib.figure.Figure at 0x1153be240>"
      ]
     },
     "metadata": {},
     "output_type": "display_data"
    }
   ],
   "source": [
    "plt.plot(admitted_matrix[:, 0], admitted_matrix[:, 1], \"ys\", \\\n",
    "            non_admitted_matrix[:, 0], non_admitted_matrix[:, 1], \"bs\")\n",
    "plt.plot(X_final[:, 1], ((0.20623159 / -0.20147149) * X_final[:, 1]) + (25.16131866 / 0.20147149)) \n",
    "GRAPH_EXPAND_VAL = 5\n",
    "plt.xlim(int(dataset.values[:, 0].min() - GRAPH_EXPAND_VAL), 100)\n",
    "plt.ylim(int(dataset.values[:, 1].min() - GRAPH_EXPAND_VAL), 100)\n",
    "plt.title(\"Admittance vs Test Scores\")\n",
    "plt.xlabel(\"Test 1 Score\")\n",
    "plt.ylabel(\"Test 2 Score\")\n",
    "\n",
    "admitted_patch = mpatches.Patch(color=\"yellow\", label=\"Admitted\")\n",
    "non_admitted_patch = mpatches.Patch(color=\"blue\", label=\"Not Admitted\")\n",
    "\n",
    "plt.legend(handles=[admitted_patch, non_admitted_patch], prop={\"size\": 5.5})\n",
    "\n",
    "plt.show()"
   ]
  },
  {
   "cell_type": "markdown",
   "metadata": {},
   "source": [
    "## Making a Prediction"
   ]
  },
  {
   "cell_type": "markdown",
   "metadata": {},
   "source": [
    "Now that we have our parameters, we can make a full prediction using a hypothesis function. *Recall*, that above we defined param0, param1, and param2 for our parameter values."
   ]
  },
  {
   "cell_type": "code",
   "execution_count": 483,
   "metadata": {
    "collapsed": false
   },
   "outputs": [],
   "source": [
    "def predict(test_score_1, test_score_2):\n",
    "    parameters = np.array([param0, param1, param2])\n",
    "    new_example = np.array([[1, test_score_1, test_score_2]])\n",
    "    \n",
    "    prediction = sigmoid(np.dot(new_example, parameters.T))[0]\n",
    "    return prediction"
   ]
  },
  {
   "cell_type": "code",
   "execution_count": 484,
   "metadata": {
    "collapsed": false
   },
   "outputs": [
    {
     "data": {
      "text/plain": [
       "0.58802924337624463"
      ]
     },
     "execution_count": 484,
     "metadata": {},
     "output_type": "execute_result"
    }
   ],
   "source": [
    "predict(70, 55)"
   ]
  },
  {
   "cell_type": "code",
   "execution_count": 485,
   "metadata": {
    "collapsed": false
   },
   "outputs": [
    {
     "name": "stdout",
     "output_type": "stream",
     "text": [
      "For a student with scores 45 and 85, we predict an admission probability of 0.7762906244027636 +- 0.002\n"
     ]
    }
   ],
   "source": [
    "print(\"For a student with scores 45 and 85, we predict an admission probability of {} +- 0.002\".format(predict(45, 85)))"
   ]
  },
  {
   "cell_type": "markdown",
   "metadata": {},
   "source": [
    "### Using a boundary to make a final decision\n",
    "\n",
    "$h(x) > 0.5 ? 1 (Admitted) : 0 (Not Admitted)$"
   ]
  },
  {
   "cell_type": "code",
   "execution_count": 486,
   "metadata": {
    "collapsed": false
   },
   "outputs": [],
   "source": [
    "def decision(test_score_1, test_score_2):\n",
    "    return (1, \"admitted\") if predict(test_score_1, test_score_2) >= 0.5 else (0, \"not admitted\")"
   ]
  },
  {
   "cell_type": "code",
   "execution_count": 487,
   "metadata": {
    "collapsed": false
   },
   "outputs": [
    {
     "data": {
      "text/plain": [
       "(1, 'admitted')"
      ]
     },
     "execution_count": 487,
     "metadata": {},
     "output_type": "execute_result"
    }
   ],
   "source": [
    "decision(45, 85)"
   ]
  },
  {
   "cell_type": "markdown",
   "metadata": {},
   "source": [
    "## Measuring Accuracy"
   ]
  },
  {
   "cell_type": "markdown",
   "metadata": {},
   "source": [
    "Let's wrap up non-regularized logistic regression by seeing how many of the predictions against the training set we would jave gotten correct!"
   ]
  },
  {
   "cell_type": "code",
   "execution_count": 488,
   "metadata": {
    "collapsed": false
   },
   "outputs": [
    {
     "name": "stdout",
     "output_type": "stream",
     "text": [
      "Expected accuracy (approx): 0.89\n"
     ]
    }
   ],
   "source": [
    "correct = 0\n",
    "for row in dataset.values[:,[0, 1, 2]]:\n",
    "    if decision(row[0], row[1])[0] == int(row[2]):\n",
    "        correct += 1\n",
    "print(\"Expected accuracy (approx): {}\".format(correct / len(dataset)))"
   ]
  },
  {
   "cell_type": "markdown",
   "metadata": {},
   "source": [
    "# Homework 2 Extra - Regularized Logistic Regression"
   ]
  },
  {
   "cell_type": "markdown",
   "metadata": {},
   "source": [
    "Often times, you may be solving a business problem that presents itself with source data that has many features. You are susceptible to overfitting, a phenomenom that occurs when your learned hypothesis function does not generalize for new test (or training) examples.\n",
    "\n",
    "From the looks of overfitting, it may seem like your hypothesis function *perfectly* fit your training data. However, it might have a weird \"look\" to it, after visualization. You may notice that it goes \"out of its way\" to fit examples. This is often due to the fact that a dataset with many features (and, often times, few training examples) leads to generating a very high order hypothesis function.\n",
    "\n",
    "These very high order functions could practically fit anything, and therefore they have **high variance**. You have two methods to reduce this variance, and effectively end overfitting:\n",
    "\n",
    "1. Remove Parameters\n",
    "2. Regularization\n",
    "\n",
    "Regularization is a technique that allows you to reduce the weight of parameters in such a way that \"simplifies\" the hypothesis function -- this simplification could lead to certain parameters becoming low-valued, or even 0 (meaning they were effectively removed). We add a **regularization parameter** to our cost function to *penalize* parameters in such a way that they remain smaller / don't grow too quickly."
   ]
  },
  {
   "cell_type": "markdown",
   "metadata": {},
   "source": [
    "## Cost Function, meet Regularization Term"
   ]
  },
  {
   "cell_type": "markdown",
   "metadata": {},
   "source": [
    "To reduce the weights of our parameters, we have to *penalize* them. The only place in a machine learning algorithm where penalization could make sense is the cost function. By artificially increasing the cost of any given parameter, we are reducing its weight, as it will take a longer time to reach a value that would lead to overfitting. \n",
    "\n",
    "![Image](http://i.imgur.com/xA810Fr.png)\n",
    "\n",
    "In turn, this affects gradient descent. We explore that a few cells below.\n"
   ]
  },
  {
   "cell_type": "markdown",
   "metadata": {},
   "source": [
    "**Modifying the cost_function from our scratch implementation**\n",
    "\n",
    "### NOTE: The lines before \"Prepocessing\" are regularization implementations, tested on the old dataset"
   ]
  },
  {
   "cell_type": "code",
   "execution_count": 489,
   "metadata": {
    "collapsed": false
   },
   "outputs": [],
   "source": [
    "def regularized_cost_function(parameters, X, Y, regularization_parameter):\n",
    "    examples_count = Y.size\n",
    "    \n",
    "    actual_cost = (1 / examples_count) * ((-Y * np.log(sigmoid(np.dot(X, parameters))) \\\n",
    "                        - (1 - Y) * np.log(1 - sigmoid(np.dot(X, parameters)))).sum())\n",
    "    # squared_parameters = np.append(parameters[0], np.power(parameters[1:], 2)).sum()\n",
    "    squared_parameters = np.power(parameters[1:], 2).sum()\n",
    "    regularization_term = (regularization_parameter / (2 * examples_count)) * squared_parameters\n",
    "    regularized_cost = actual_cost + regularization_term\n",
    "    return regularized_cost"
   ]
  },
  {
   "cell_type": "markdown",
   "metadata": {},
   "source": [
    "Let's try finding cost of using the parameters [-24, 0.2, 0.2] like when we first made the cost_function. First, we'll use a regularization_parameter of 0, which is the equivalent of not having any regularization (we should get the same result as before)."
   ]
  },
  {
   "cell_type": "code",
   "execution_count": 490,
   "metadata": {
    "collapsed": false
   },
   "outputs": [],
   "source": [
    "reg_cost_trial_1 = regularized_cost_function(np.array([-24, 0.2, 0.2]), X_final, Y_final, 0)"
   ]
  },
  {
   "cell_type": "code",
   "execution_count": 491,
   "metadata": {
    "collapsed": false
   },
   "outputs": [
    {
     "data": {
      "text/plain": [
       "0.21833019382659796"
      ]
     },
     "execution_count": 491,
     "metadata": {},
     "output_type": "execute_result"
    }
   ],
   "source": [
    "reg_cost_trial_1"
   ]
  },
  {
   "cell_type": "markdown",
   "metadata": {},
   "source": [
    "Great! That checks out. Now, let's try it with a value of 5."
   ]
  },
  {
   "cell_type": "code",
   "execution_count": 492,
   "metadata": {
    "collapsed": false
   },
   "outputs": [],
   "source": [
    "reg_cost_trial_2 = regularized_cost_function(np.array([-24, 0.2, 0.2]), X_final, Y_final, 5)"
   ]
  },
  {
   "cell_type": "code",
   "execution_count": 493,
   "metadata": {
    "collapsed": false
   },
   "outputs": [
    {
     "data": {
      "text/plain": [
       "0.22033019382659796"
      ]
     },
     "execution_count": 493,
     "metadata": {},
     "output_type": "execute_result"
    }
   ],
   "source": [
    "reg_cost_trial_2"
   ]
  },
  {
   "cell_type": "markdown",
   "metadata": {},
   "source": [
    "Perfect! The absolute cost increased, meaning the absolute values of our parameters will decrease in weight."
   ]
  },
  {
   "cell_type": "markdown",
   "metadata": {},
   "source": [
    "### Problem Description"
   ]
  },
  {
   "cell_type": "markdown",
   "metadata": {},
   "source": [
    "We are analyzing data from a factory that produces microchips. All microchips need to go under quality assurance (QA), using two \"microchip tests\". Our goal is to produce a non-linear decision boundary that seperates the microhips with the results of the two tests that pass QA, from those that do not."
   ]
  },
  {
   "cell_type": "markdown",
   "metadata": {
    "collapsed": true
   },
   "source": [
    "### Preprocessing"
   ]
  },
  {
   "cell_type": "code",
   "execution_count": 494,
   "metadata": {
    "collapsed": false
   },
   "outputs": [
    {
     "data": {
      "text/html": [
       "<div>\n",
       "<table border=\"1\" class=\"dataframe\">\n",
       "  <thead>\n",
       "    <tr style=\"text-align: right;\">\n",
       "      <th></th>\n",
       "      <th>Test 1</th>\n",
       "      <th>Test 2</th>\n",
       "      <th>QA Result</th>\n",
       "    </tr>\n",
       "  </thead>\n",
       "  <tbody>\n",
       "    <tr>\n",
       "      <th>0</th>\n",
       "      <td>0.051267</td>\n",
       "      <td>0.69956</td>\n",
       "      <td>1</td>\n",
       "    </tr>\n",
       "    <tr>\n",
       "      <th>1</th>\n",
       "      <td>-0.092742</td>\n",
       "      <td>0.68494</td>\n",
       "      <td>1</td>\n",
       "    </tr>\n",
       "    <tr>\n",
       "      <th>2</th>\n",
       "      <td>-0.213710</td>\n",
       "      <td>0.69225</td>\n",
       "      <td>1</td>\n",
       "    </tr>\n",
       "    <tr>\n",
       "      <th>3</th>\n",
       "      <td>-0.375000</td>\n",
       "      <td>0.50219</td>\n",
       "      <td>1</td>\n",
       "    </tr>\n",
       "    <tr>\n",
       "      <th>4</th>\n",
       "      <td>-0.513250</td>\n",
       "      <td>0.46564</td>\n",
       "      <td>1</td>\n",
       "    </tr>\n",
       "  </tbody>\n",
       "</table>\n",
       "</div>"
      ],
      "text/plain": [
       "     Test 1   Test 2  QA Result\n",
       "0  0.051267  0.69956          1\n",
       "1 -0.092742  0.68494          1\n",
       "2 -0.213710  0.69225          1\n",
       "3 -0.375000  0.50219          1\n",
       "4 -0.513250  0.46564          1"
      ]
     },
     "execution_count": 494,
     "metadata": {},
     "output_type": "execute_result"
    }
   ],
   "source": [
    "dataset_2 = pd.read_csv(\"ex2data2.txt\", header=None)\n",
    "dataset_2.columns = [\"Test 1\", \"Test 2\", \"QA Result\"]\n",
    "dataset_2.head()"
   ]
  },
  {
   "cell_type": "code",
   "execution_count": 495,
   "metadata": {
    "collapsed": true
   },
   "outputs": [],
   "source": [
    "# Seperate the independent and dependent variables\n",
    "X_matrix = dataset_2.iloc[:, [0, 1]].values\n",
    "Y_matrix = dataset_2.iloc[:, -1].values"
   ]
  },
  {
   "cell_type": "code",
   "execution_count": 496,
   "metadata": {
    "collapsed": false
   },
   "outputs": [
    {
     "data": {
      "image/png": "[encoded data removed]",
      "text/plain": [
       "<matplotlib.figure.Figure at 0x117acce48>"
      ]
     },
     "metadata": {},
     "output_type": "display_data"
    }
   ],
   "source": [
    "plt.plot(X_matrix[0:58, 0], X_matrix[0:58, 1], 'rs', X_matrix[59:, 0], X_matrix[59:, 1], 'bs')\n",
    "\n",
    "passed_patch = mpatches.Patch(color=\"red\", label=\"Passed\")\n",
    "failed_patch = mpatches.Patch(color=\"blue\", label=\"Failed\")\n",
    "\n",
    "plt.legend(handles=[passed_patch, failed_patch], prop={\"size\": 5.5})\n",
    "\n",
    "plt.xlabel(\"Microchip Test #1\")\n",
    "plt.ylabel(\"Microchip Test #2\")\n",
    "plt.title(\"QA Score Distribution of Microchips\")\n",
    "plt.show()"
   ]
  },
  {
   "cell_type": "markdown",
   "metadata": {},
   "source": [
    "## Adding Polynomial Features\n",
    "At this point, it's obvious that the decision boundary for this data is non-linear. It seems to be that the data is seperated by some type of ellipse. To achieve that ellipse, it's in our best interest to add polynomial features to our dataset so that gradient descent has more parameters to manipulate in order to achieve the right shape.\n",
    "\n",
    "But.... isn't adding more features going to lead us to overfitting? The answer is, it will! However, recall that we are coming into this section with regularized implementations of the cost function. This will help us get an appropriate bound, after we implement"
   ]
  },
  {
   "cell_type": "code",
   "execution_count": 497,
   "metadata": {
    "collapsed": false
   },
   "outputs": [],
   "source": [
    "X_polynomial = np.append(X_matrix, np.power(X_matrix, 2), axis=1)"
   ]
  },
  {
   "cell_type": "code",
   "execution_count": 498,
   "metadata": {
    "collapsed": false
   },
   "outputs": [],
   "source": [
    "X_polynomial = np.append(np.ones((118, 1)), X_polynomial, axis=1)"
   ]
  },
  {
   "cell_type": "markdown",
   "metadata": {},
   "source": [
    "## Gradient Descent, meet Regularization Term\n",
    "It looks something like this.\n",
    "<center><h2>repeat until converge {</h2></center><br>\n",
    "<center>$\\Theta _{0} - \\alpha [\\frac{1}{m} \\sum_{i=1}^{m} (h(x^{i}) - y^{i})x_{i}^{j}]$</center><br>\n",
    "<center>$\\Theta _{j} - \\alpha [\\frac{1}{m} \\sum_{i=1}^{m} (h(x^{i}) - y^{i})x_{i}^{j} + \\frac{\\lambda}{m} \\Theta _{j}]$</center>\n",
    "<h2 style=\"margin-left:35%\">}</h2>"
   ]
  },
  {
   "cell_type": "code",
   "execution_count": 499,
   "metadata": {
    "collapsed": true
   },
   "outputs": [],
   "source": [
    "def regularized_gradient_descent(X, Y, init_parameters, alpha, iters, reg_term):\n",
    "    examples_count = X[:, 0].size # 100\n",
    "    reg_update_parameters = init_parameters.copy() # [ 0 0 0 ]\n",
    "    reg_cost_vector = np.zeros(iters) \n",
    "    \n",
    "    for i in range(iters):\n",
    "        raw_difference = sigmoid(np.dot(X, reg_update_parameters.T)) - Y # proposed vetorized implem\n",
    "        for j in range(len(reg_update_parameters)):\n",
    "            inner_term = np.multiply(raw_difference, X[:, j]).sum()\n",
    "            # With regularization, we add the reg term multiplied by the current parameter\n",
    "            if j == 0:\n",
    "                full_inner_term = (1 / examples_count) * inner_term\n",
    "            else:\n",
    "                full_inner_term = (1 / examples_count) * inner_term + ((reg_term / examples_count) * reg_update_parameters[j])\n",
    "            # the alpha * 1/m done in one sweep with this next line\n",
    "            init_parameters[j] = reg_update_parameters[j] - (alpha * full_inner_term)\n",
    "        \n",
    "        # Note, parameter changes don't have to be simultaneous with my implementation, here.\n",
    "        reg_update_parameters = init_parameters.copy()\n",
    "        reg_cost_vector[i] = cost_function(reg_update_parameters, X, Y)\n",
    "    \n",
    "    return reg_cost_vector, reg_update_parameters"
   ]
  },
  {
   "cell_type": "markdown",
   "metadata": {},
   "source": [
    "Great, now let's try to calculate the cost of all thetas as 0, with lambda = 1!"
   ]
  },
  {
   "cell_type": "code",
   "execution_count": 500,
   "metadata": {
    "collapsed": false
   },
   "outputs": [
    {
     "data": {
      "text/plain": [
       "0.6931471805599454"
      ]
     },
     "execution_count": 500,
     "metadata": {},
     "output_type": "execute_result"
    }
   ],
   "source": [
    "regularized_cost_function(np.array([0.0, 0.0, 0.0, 0.0, 0.0]), X_polynomial, Y_matrix, 1)"
   ]
  },
  {
   "cell_type": "markdown",
   "metadata": {},
   "source": [
    "Looks like we go the result we wanted! Now let's try with all thetas as 1, with lambda = 10!"
   ]
  },
  {
   "cell_type": "code",
   "execution_count": 501,
   "metadata": {
    "collapsed": false
   },
   "outputs": [
    {
     "data": {
      "text/plain": [
       "1.379499994966312"
      ]
     },
     "execution_count": 501,
     "metadata": {},
     "output_type": "execute_result"
    }
   ],
   "source": [
    "regularized_cost_function(np.array([1.0, 1.0, 1.0, 1.0, 1.0]), X_polynomial, Y_matrix, 10)"
   ]
  },
  {
   "cell_type": "code",
   "execution_count": 502,
   "metadata": {
    "collapsed": false
   },
   "outputs": [],
   "source": [
    "reg_cost_vector, reg_parameters = regularized_gradient_descent(X_polynomial, Y_matrix, np.array([1.19697377,  0.21885289,  0.57109695, -2.71474586, -2.27107429]), 1, 10, 1)"
   ]
  },
  {
   "cell_type": "code",
   "execution_count": 503,
   "metadata": {
    "collapsed": false
   },
   "outputs": [
    {
     "data": {
      "text/plain": [
       "array([ 0.53634105,  0.53634105,  0.53634105,  0.53634105,  0.53634105,\n",
       "        0.53634105,  0.53634105,  0.53634105,  0.53634105,  0.53634105])"
      ]
     },
     "execution_count": 503,
     "metadata": {},
     "output_type": "execute_result"
    }
   ],
   "source": [
    "reg_cost_vector"
   ]
  },
  {
   "cell_type": "code",
   "execution_count": 504,
   "metadata": {
    "collapsed": false
   },
   "outputs": [
    {
     "data": {
      "text/plain": [
       "array([[ 1.19697377],\n",
       "       [ 0.21885289],\n",
       "       [ 0.57109695],\n",
       "       [-2.71474586],\n",
       "       [-2.27107429]])"
      ]
     },
     "execution_count": 504,
     "metadata": {},
     "output_type": "execute_result"
    }
   ],
   "source": [
    "predicted_parameters = np.expand_dims(reg_parameters, axis=1)\n",
    "predicted_parameters"
   ]
  },
  {
   "cell_type": "code",
   "execution_count": 505,
   "metadata": {
    "collapsed": false
   },
   "outputs": [],
   "source": [
    "x2_pred = ((2.27107429 * X_polynomial[:, 4]) + (2.71474586 * X_polynomial[:, 3]) - (0.21885289 * X_polynomial[:, 1]) - (1.19697377 * X_polynomial[:, 0])) / 0.57109695"
   ]
  },
  {
   "cell_type": "code",
   "execution_count": 506,
   "metadata": {
    "collapsed": false
   },
   "outputs": [],
   "source": [
    "y_predictions = np.abs(np.dot(X_polynomial, predicted_parameters))\n",
    "wrong = 0\n",
    "right = 0\n",
    "\n",
    "for i in range(len(y_predictions)):\n",
    "    if i < 85:\n",
    "        if y_predictions[i][0] < 0.5:\n",
    "            wrong += 1\n",
    "        else:\n",
    "            right += 1\n",
    "    else:\n",
    "        if y_predictions[i][0] >= 0.5:\n",
    "            wrong += 1\n",
    "            right += 1"
   ]
  },
  {
   "cell_type": "code",
   "execution_count": 507,
   "metadata": {
    "collapsed": false
   },
   "outputs": [
    {
     "name": "stdout",
     "output_type": "stream",
     "text": [
      "Accuracy of 48.739495798319325%\n"
     ]
    }
   ],
   "source": [
    "print(\"Accuracy of {}%\".format((right / (right + wrong)) * 100))"
   ]
  },
  {
   "cell_type": "markdown",
   "metadata": {},
   "source": [
    "### Drawing a Decision Boundary"
   ]
  },
  {
   "cell_type": "markdown",
   "metadata": {},
   "source": [
    "We've provided 5 parameters, x0, x1, x2, x1^2, x2^2. It's possible that even with the addition of these two features, we might not be accurate enough. In that case, you will want to add more features to X_polynomial so gradient descent has more variables at its disposal to adjust and get that answer we want (recall: the more parameters, the higher variance, making it easier to get a better prediction -- it also solidifies our usage of regularization).\n",
    "\n",
    "To draw a decision boundary, we will set the hypothesis equation to 0, and solve for the feature that represents the Y axis."
   ]
  },
  {
   "cell_type": "code",
   "execution_count": 508,
   "metadata": {
    "collapsed": false
   },
   "outputs": [
    {
     "data": {
      "image/png": "[encoded data removed]",
      "text/plain": [
       "<matplotlib.figure.Figure at 0x117d92550>"
      ]
     },
     "metadata": {},
     "output_type": "display_data"
    }
   ],
   "source": [
    "plt.plot(X_matrix[0:58, 0], X_matrix[0:58, 1], 'rs', X_matrix[58:, 0], X_matrix[58:, 1], 'bs')\n",
    "plt.plot(X_matrix[:, 0], x2_pred)\n",
    "\n",
    "passed_patch = mpatches.Patch(color=\"red\", label=\"Passed\")\n",
    "failed_patch = mpatches.Patch(color=\"blue\", label=\"Failed\")\n",
    "\n",
    "plt.legend(handles=[passed_patch, failed_patch], prop={\"size\": 5.5})\n",
    "\n",
    "plt.xlabel(\"Microchip Test #1\")\n",
    "plt.ylabel(\"Microchip Test #2\")\n",
    "plt.title(\"QA Score Distribution of Microchips\")\n",
    "plt.show()"
   ]
  },
  {
   "cell_type": "markdown",
   "metadata": {},
   "source": [
    "NOTE: This looks absolutely terrible, which means we should use an advanced optimization method."
   ]
  },
  {
   "cell_type": "markdown",
   "metadata": {},
   "source": [
    "## Advanced Optimization Methods"
   ]
  },
  {
   "cell_type": "markdown",
   "metadata": {},
   "source": [
    "![Image](http://i.imgur.com/xA810Fr.png)"
   ]
  },
  {
   "cell_type": "code",
   "execution_count": 509,
   "metadata": {
    "collapsed": true
   },
   "outputs": [],
   "source": [
    "def new_advanced_cost_function(parameters, X, Y, reg_term): # func\n",
    "    parameters = np.expand_dims(parameters, axis=0)\n",
    "    \n",
    "    inner_value = - (np.multiply(Y, np.log(sigmoid(np.dot(X, parameters.T)))) + \\\n",
    "                        np.multiply((1 - Y), np.log(1 - sigmoid(np.dot(X, parameters.T)))))\n",
    "    squared_parameters = np.power(parameters[1:], 2).sum()\n",
    "    total_cost = (inner_value.sum() / len(X)) + (reg_term / (2 * len(X))) * squared_parameters\n",
    "    return total_cost"
   ]
  },
  {
   "cell_type": "code",
   "execution_count": 510,
   "metadata": {
    "collapsed": true
   },
   "outputs": [],
   "source": [
    "def new_derivative_cost_function(parameters, X, Y, reg_term): # fprime\n",
    "    parameters = np.expand_dims(parameters, axis=0) # default is 1D, so we must expand_dims\n",
    "    result_parameters = np.zeros((parameters.shape[1], 1))\n",
    "    raw_difference = sigmoid(np.dot(X, parameters.T)) - Y\n",
    "    \n",
    "    for i in range(len(parameters.ravel())):\n",
    "        if i == 0:\n",
    "            result_parameters[i] = np.multiply(raw_difference, X[:, [i]]).sum() / len(X)\n",
    "        else:\n",
    "            result_parameters[i] = (np.multiply(raw_difference, X[:, [i]]).sum() / len(X)) + \\\n",
    "                                        (reg_term / len(X)) * parameters[:, i]\n",
    "    \n",
    "    return result_parameters"
   ]
  },
  {
   "cell_type": "code",
   "execution_count": 511,
   "metadata": {
    "collapsed": false
   },
   "outputs": [
    {
     "data": {
      "text/plain": [
       "0.6931471805599454"
      ]
     },
     "execution_count": 511,
     "metadata": {},
     "output_type": "execute_result"
    }
   ],
   "source": [
    "Y_2D = np.expand_dims(Y_matrix, axis=1)\n",
    "new_advanced_cost_function(np.array([0.0, 0.0, 0.0, 0.0, 0.0]), X_polynomial, Y_2D, 1)"
   ]
  },
  {
   "cell_type": "code",
   "execution_count": 512,
   "metadata": {
    "collapsed": false
   },
   "outputs": [
    {
     "data": {
      "text/plain": [
       "array([[  8.47457627e-03],\n",
       "       [  1.87880932e-02],\n",
       "       [  7.77711864e-05],\n",
       "       [  5.03446395e-02],\n",
       "       [  3.76648474e-02]])"
      ]
     },
     "execution_count": 512,
     "metadata": {},
     "output_type": "execute_result"
    }
   ],
   "source": [
    "new_derivative_cost_function(np.array([0.0, 0.0, 0.0, 0.0, 0.0]), X_polynomial, Y_2D, 1)"
   ]
  },
  {
   "cell_type": "code",
   "execution_count": 513,
   "metadata": {
    "collapsed": false
   },
   "outputs": [
    {
     "data": {
      "text/plain": [
       "(array([ 1.19697143,  0.21884893,  0.5710955 , -2.71474108, -2.27107021]),\n",
       " 38,\n",
       " 0)"
      ]
     },
     "execution_count": 513,
     "metadata": {},
     "output_type": "execute_result"
    }
   ],
   "source": [
    "optimize.fmin_tnc(func=new_advanced_cost_function, x0=np.array([1.0, 1.0, 1.0, 1.0, 1.0]), \\\n",
    "                  fprime=new_derivative_cost_function, args=(X_polynomial, Y_2D, 1))"
   ]
  },
  {
   "cell_type": "markdown",
   "metadata": {},
   "source": [
    "TODO (soon): In future, add more polynomial terms... clearly x1^2 and x2^2 were not enough. fmin_tnc gives same result as gradien descent, meaning same accuracy!"
   ]
  }
 ],
 "metadata": {
  "anaconda-cloud": {},
  "kernelspec": {
   "display_name": "Python [conda root]",
   "language": "python",
   "name": "conda-root-py"
  },
  "language_info": {
   "codemirror_mode": {
    "name": "ipython",
    "version": 3
   },
   "file_extension": ".py",
   "mimetype": "text/x-python",
   "name": "python",
   "nbconvert_exporter": "python",
   "pygments_lexer": "ipython3",
   "version": "3.5.2"
  }
 },
 "nbformat": 4,
 "nbformat_minor": 1
}
