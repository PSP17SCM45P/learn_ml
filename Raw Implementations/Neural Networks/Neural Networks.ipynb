{
 "cells": [
  {
   "cell_type": "markdown",
   "metadata": {},
   "source": [
    "# Homework 3, Part 2: Neural Networks"
   ]
  },
  {
   "cell_type": "markdown",
   "metadata": {},
   "source": [
    "In this homework, we're given already determined weights of a feed-forward (forward propogation) neural network. This neural network consists of an input layer, a single hidden layer, and an output layer. The input layer contains 400 units, which is the size of any one of our training samples. The hidden layer is 25 units. The output layer is 10 units, since there are 10 numbers.\n",
    "\n",
    "Since this is a multi-class classification problem, our output layer is going to be viewed as a vector, where the single 1 in the vector represents our actual prediction."
   ]
  },
  {
   "cell_type": "code",
   "execution_count": 3,
   "metadata": {
    "collapsed": true
   },
   "outputs": [],
   "source": [
    "from scipy.io import loadmat\n",
    "import numpy as np\n",
    "import pandas as pd\n",
    "import matplotlib.pyplot as plt"
   ]
  },
  {
   "cell_type": "code",
   "execution_count": 11,
   "metadata": {
    "collapsed": false
   },
   "outputs": [
    {
     "name": "stdout",
     "output_type": "stream",
     "text": [
      "(25, 401)\n"
     ]
    }
   ],
   "source": [
    "raw_data = loadmat(\"ex3weights.mat\")\n",
    "\n",
    "Theta1 = raw_data[\"Theta1\"]\n",
    "print(Theta1.shape)\n",
    "Theta2 = raw_data[\"Theta2\"]"
   ]
  },
  {
   "cell_type": "code",
   "execution_count": 5,
   "metadata": {
    "collapsed": false
   },
   "outputs": [
    {
     "name": "stdout",
     "output_type": "stream",
     "text": [
      "ϴ1 -- Contains parameters for 25 examples of the 20 x 20 images to be used for prediction, pre-trained for us\n",
      "shape: (25, 401): \n",
      "contents:\n",
      "[[ -2.25623899e-02  -1.05624163e-08   2.19414684e-09 ...,  -1.30529929e-05\n",
      "   -5.04175101e-06   2.80464449e-09]\n",
      " [ -9.83811294e-02   7.66168682e-09  -9.75873689e-09 ...,  -5.60134007e-05\n",
      "    2.00940969e-07   3.54422854e-09]\n",
      " [  1.16156052e-01  -8.77654466e-09   8.16037764e-09 ...,  -1.20951657e-04\n",
      "   -2.33669661e-06  -7.50668099e-09]\n",
      " ..., \n",
      " [ -1.83220638e-01  -8.89272060e-09  -9.81968100e-09 ...,   2.35311186e-05\n",
      "   -3.25484493e-06   9.02499060e-09]\n",
      " [ -7.02096331e-01   3.05178374e-10   2.56061008e-09 ...,  -8.61759744e-04\n",
      "    9.43449909e-05   3.83761998e-09]\n",
      " [ -3.50933229e-01   8.85876862e-09  -6.57515140e-10 ...,  -1.80365926e-06\n",
      "   -8.14464807e-06   8.79454531e-09]]\n",
      "\n",
      "\n",
      "ϴ2 -- Contains parameters for 10 guesses on 25 hidden-layer-transformed features\n",
      "shape: (10, 26)\n",
      "contents:\n",
      "[[-0.76100352 -1.21244498 -0.10187131 -2.36850085 -1.05778129 -2.20823629\n",
      "   0.56383834  1.21105294  2.21030997  0.44456156 -1.18244872  1.04289112\n",
      "  -1.60558756  1.30419943  1.37175046  1.74825095 -0.23365648 -1.52014483\n",
      "   1.15324176  0.10368082 -0.37207719 -0.61530019 -0.1256836  -2.27193038\n",
      "  -0.71836208 -1.29690315]\n",
      " [-0.61785176  0.61559207 -1.26550639  1.85745418 -0.91853319 -0.05502589\n",
      "  -0.38589806  1.29520853 -1.56843297 -0.97026419 -2.18334895 -2.85033578\n",
      "  -2.07733086  1.63163164  0.3490229   1.82789117 -2.44174379 -0.8563034\n",
      "  -0.2982564  -2.07947873 -1.2933238   0.89982032  0.28306578  2.31180525\n",
      "  -2.46444086  1.45656548]\n",
      " [-0.68934072 -1.94538151  2.01360618 -3.12316188 -0.2361763   1.38680947\n",
      "   0.90982429 -1.54774416 -0.79830896 -0.65599834  0.7353833  -2.58593294\n",
      "   0.47210839  0.55349499  2.51255453 -2.4167454  -1.63898627  1.2027302\n",
      "  -1.20245851 -1.83445959 -1.88013027 -0.34056098  0.23692483 -1.06137919\n",
      "   1.02759232 -0.47690832]\n",
      " [-0.67832479  0.46299226  0.58492321 -0.1650184   1.93264192 -0.22965765\n",
      "  -1.84731492  0.49011768  1.07146054 -3.31905643  1.54113507  0.37371947\n",
      "  -0.86484681 -2.58273522  0.97062447 -0.51021867 -0.68427897 -1.64713607\n",
      "   0.21153145 -0.27422442  1.72599755  1.32418658 -2.63984479 -0.08055871\n",
      "  -2.03510803 -1.46123776]\n",
      " [-0.59664339 -2.04481799  2.05698407  1.95100909  0.17637699 -2.16141218\n",
      "  -0.40394736  1.80157532 -1.56278739 -0.25253004  0.23586497  0.71656699\n",
      "   1.07689092 -0.35457279 -1.67743058 -0.12939255 -0.67488849  1.14066535\n",
      "   1.32431237  3.21158484 -2.15888898 -2.60164082 -3.2226466  -1.89612906\n",
      "  -0.87488068  2.51038628]\n",
      " [-0.87794907  0.4344112  -0.93161049  0.18390778 -0.36078216  0.61958137\n",
      "   0.38624948 -2.65150343  2.29710773 -2.08818098 -1.86382323  1.06057836\n",
      "   0.77562146  2.1346861  -1.14973702 -0.52081426  0.99743429 -1.48309353\n",
      "  -2.3139424   0.29517333 -0.38704879 -2.20607697  0.30702191 -1.17646114\n",
      "  -1.63462966 -0.82467661]\n",
      " [-0.52746527  1.21564288 -1.50095981 -2.03195359 -1.52366734 -2.43732079\n",
      "  -2.37570311 -1.39987277 -0.88735315 -0.63278873  1.50450176 -1.580763\n",
      "   0.58599217 -0.77540416  0.94257331  2.10919653  0.54479132  0.43773612\n",
      "  -1.28024228 -0.04360994  1.4774997  -1.13276949 -0.72846904  0.04734716\n",
      "   1.6574566   1.68540944]\n",
      " [-0.7490154  -0.72249056 -3.15228173  0.36577778  0.19811362 -0.73059946\n",
      "   1.65263918 -2.300357   -1.87468162  0.98095387 -1.58825159  1.35434142\n",
      "   2.17895331 -1.99239762 -2.00371362 -0.388613   -2.33992976 -2.91719062\n",
      "   0.99398645 -2.70476768 -1.27139772  1.86091461 -1.20519404 -0.38014194\n",
      "   0.7087181  -2.11014003]\n",
      " [-0.6665468   0.53601845  1.30307573 -1.03372714 -4.03084753  0.58173469\n",
      "  -2.65717902  0.80379994 -1.09241928  2.49910058  0.362008    0.66195337\n",
      "  -0.92160534 -0.83123666 -2.00200952 -2.94897501  0.64564202 -1.10114694\n",
      "   0.74510309  0.58506717 -1.99545251  0.62591105  1.80596103 -0.22309315\n",
      "  -1.40442136 -2.1319153 ]\n",
      " [-0.46089119 -1.43944954 -1.21809509  0.71093011  0.45216919 -0.35953381\n",
      "   0.62284954 -0.67005297 -0.7069138   0.06311351 -1.23199074 -1.74645233\n",
      "  -2.71960897 -2.21437178 -1.69307505 -0.90927394  0.87852311  1.18664814\n",
      "  -1.87041262  0.39796295  1.72113872 -1.36934055  0.8580668  -0.24779579\n",
      "   1.28009118 -1.32752042]]\n"
     ]
    }
   ],
   "source": [
    "# Visualizing Theta1 and Theta2\n",
    "print(\"ϴ1 -- Contains parameters for 25 examples of the 20 x 20 images to be used for prediction, pre-trained for us\\nshape: {}: \\ncontents:\\n{}\\n\\n\".format(Theta1.shape, Theta1))\n",
    "print(\"ϴ2 -- Contains parameters for 10 guesses on 25 hidden-layer-transformed features\\nshape: {}\\ncontents:\\n{}\".format(Theta2.shape, Theta2))"
   ]
  },
  {
   "cell_type": "code",
   "execution_count": 8,
   "metadata": {
    "collapsed": false
   },
   "outputs": [
    {
     "name": "stdout",
     "output_type": "stream",
     "text": [
      "(5000, 400)\n",
      "(5000, 1)\n"
     ]
    }
   ],
   "source": [
    "# Extracting the training data (we are actually predicting on it, since we were given weights)\n",
    "training_data = loadmat(\"ex3data1.mat\")\n",
    "\n",
    "X = training_data[\"X\"]\n",
    "y = training_data[\"y\"]\n",
    "\n",
    "print(X.shape)\n",
    "print(y.shape)"
   ]
  },
  {
   "cell_type": "code",
   "execution_count": 56,
   "metadata": {
    "collapsed": false
   },
   "outputs": [
    {
     "data": {
      "text/plain": [
       "array([7], dtype=uint8)"
      ]
     },
     "execution_count": 56,
     "metadata": {},
     "output_type": "execute_result"
    }
   ],
   "source": [
    "y[3812]"
   ]
  },
  {
   "cell_type": "markdown",
   "metadata": {},
   "source": [
    "## Predicting a Single Example"
   ]
  },
  {
   "cell_type": "markdown",
   "metadata": {},
   "source": [
    "Instead of vectorizing and predicting all of our examples in one foul swoop, let's look at one specific training example from the 5000-size dataset."
   ]
  },
  {
   "cell_type": "code",
   "execution_count": 57,
   "metadata": {
    "collapsed": false,
    "scrolled": false
   },
   "outputs": [
    {
     "name": "stdout",
     "output_type": "stream",
     "text": [
      "(401, 1)\n"
     ]
    }
   ],
   "source": [
    "data_point = np.append(np.array([1.0]), X[3812])\n",
    "data_point = np.expand_dims(data_point, axis=0).T\n",
    "print(data_point.shape)"
   ]
  },
  {
   "cell_type": "code",
   "execution_count": 63,
   "metadata": {
    "collapsed": false
   },
   "outputs": [
    {
     "name": "stdout",
     "output_type": "stream",
     "text": [
      "Dotting the following: Theta (25, 401) by X (401, 1)\n",
      "\n",
      "a(2) shape: (26, 1)\n",
      "[[ 1.        ]\n",
      " [ 2.31599094]\n",
      " [-2.19745992]\n",
      " [-4.05277214]\n",
      " [-7.95914969]\n",
      " [-1.89579245]\n",
      " [-3.13976114]\n",
      " [-1.15582907]\n",
      " [-7.84729598]\n",
      " [ 7.10932691]\n",
      " [ 3.85164199]\n",
      " [ 2.91201551]\n",
      " [ 5.13771229]\n",
      " [-9.68106941]\n",
      " [ 1.56192124]\n",
      " [ 4.00918859]\n",
      " [ 2.07040675]\n",
      " [ 3.04964752]\n",
      " [-1.46478672]\n",
      " [-8.94944647]\n",
      " [ 1.65808403]\n",
      " [ 2.49795108]\n",
      " [ 0.68739891]\n",
      " [ 2.59157764]\n",
      " [ 5.61723477]\n",
      " [ 1.06699791]]\n"
     ]
    }
   ],
   "source": [
    "# Pass the input features through the hidden layer -- (25 x 401) (401 x 1)\n",
    "print(\"Dotting the following: Theta {} by X {}\".format(Theta1.shape, data_point.shape), end=\"\\n\\n\")\n",
    "\n",
    "hidden_layer_vals = np.dot(Theta1, data_point)\n",
    "\n",
    "# Add the bias unit\n",
    "hidden_layer_vals = np.append(np.array([[1.0]]), hidden_layer_vals, axis=0)\n",
    "print(\"a(2) shape: {}\".format(hidden_layer_vals.shape))\n",
    "print(hidden_layer_vals)"
   ]
  },
  {
   "cell_type": "code",
   "execution_count": 59,
   "metadata": {
    "collapsed": false
   },
   "outputs": [
    {
     "name": "stdout",
     "output_type": "stream",
     "text": [
      "Theta2 shape: (10, 26)\n",
      "a(2) shape: (26, 1)\n",
      "[[-33.02020298]\n",
      " [-21.32414679]\n",
      " [  6.58689058]\n",
      " [-28.02536415]\n",
      " [-44.6335533 ]\n",
      " [-73.31043753]\n",
      " [ 78.82747973]\n",
      " [ 57.07325691]\n",
      " [ 38.72332937]\n",
      " [ -0.98641174]]\n",
      "Prediction, the number is: 7\n"
     ]
    }
   ],
   "source": [
    "# Here, the highest number is our prediction. Note that index 0 --> NUMBER 1, index 1 --> NUMBER 2, and so forth, to index 9 --> NUMBER 0 \n",
    "# np.dot(Theta2, hidden_layer_vals)\n",
    "print(\"Theta2 shape: {}\".format(Theta2.shape))\n",
    "print(\"a(2) shape: {}\".format(hidden_layer_vals.shape))\n",
    "\n",
    "print(np.dot(Theta2, hidden_layer_vals))\n",
    "\n",
    "prediction_index = np.argmax(np.dot(Theta2, hidden_layer_vals))\n",
    "\n",
    "\n",
    "if prediction_index == 9:\n",
    "    print(\"Prediction, the number is: 0\")\n",
    "else:\n",
    "    print(\"Prediction, the number is: {}\".format(prediction_index + 1))"
   ]
  },
  {
   "cell_type": "markdown",
   "metadata": {},
   "source": [
    "## Vectorized Implementation"
   ]
  },
  {
   "cell_type": "code",
   "execution_count": 146,
   "metadata": {
    "collapsed": false
   },
   "outputs": [
    {
     "name": "stdout",
     "output_type": "stream",
     "text": [
      "(401, 5000)\n",
      "[[ 1.  1.  1. ...,  1.  1.  1.]\n",
      " [ 0.  0.  0. ...,  0.  0.  0.]\n",
      " [ 0.  0.  0. ...,  0.  0.  0.]\n",
      " ..., \n",
      " [ 0.  0.  0. ...,  0.  0.  0.]\n",
      " [ 0.  0.  0. ...,  0.  0.  0.]\n",
      " [ 0.  0.  0. ...,  0.  0.  0.]]\n"
     ]
    }
   ],
   "source": [
    "X_mod = np.append(np.ones((5000, 1)), X, axis=1).T\n",
    "print(X_mod.shape)"
   ]
  },
  {
   "cell_type": "code",
   "execution_count": 145,
   "metadata": {
    "collapsed": false
   },
   "outputs": [
    {
     "name": "stdout",
     "output_type": "stream",
     "text": [
      "(25, 401)\n",
      "[[ -2.93684669  -4.81302157  -4.24056958 ...,  -0.86267303   1.74408423\n",
      "    3.55683614]\n",
      " [ -2.45058587  -2.92257775  -3.68698052 ...,   1.00939507  -0.58216518\n",
      "  -12.11330792]\n",
      " [  4.95510333   2.6445065    5.99656398 ...,  -1.67526051  -1.49164167\n",
      "    5.01096205]\n",
      " ..., \n",
      " [  3.56635593   2.10497303   1.54599347 ...,   1.8185898    4.17481481\n",
      "    7.17585008]\n",
      " [  2.81388641   4.69948787   3.08971226 ...,  -3.18203449  -0.96739536\n",
      "    2.15484114]\n",
      " [ -2.1195223   -2.76096862  -2.32990819 ...,  -1.72539781  -3.08906563\n",
      "   -2.9424052 ]]\n",
      "(25, 5000)\n"
     ]
    }
   ],
   "source": [
    "print(Theta1.shape)\n",
    "hidden_layer_vec = np.dot(Theta1, X_mod)\n",
    "print(hidden_layer_vec)\n",
    "print(hidden_layer_vec.shape)"
   ]
  },
  {
   "cell_type": "code",
   "execution_count": 151,
   "metadata": {
    "collapsed": false
   },
   "outputs": [
    {
     "name": "stdout",
     "output_type": "stream",
     "text": [
      "[ 1.         -0.03136708 -3.22581328  5.29932574  4.22742674  3.58295805\n",
      "  3.2346937  -2.82338367  2.29061189 -2.19212986 -4.02366895  1.96137975\n",
      "  2.75790319  2.63538245 -3.9115225  -4.76091198  1.09641258 -4.67803377\n",
      " -3.21945004  0.71602053 -3.98601791 -2.95028002  2.36358227  1.60855604\n",
      " -3.54186751 -0.48885916]\n",
      "Dotting Theta2 (10, 26) by a2 (26, 5000)\n"
     ]
    }
   ],
   "source": [
    "# Add a bias unit to every single example we want to predict (vectorized)\n",
    "hidden_layer_vec_mod = np.append(np.ones((1, 5000)), hidden_layer_vec, axis=0)\n",
    "\n",
    "print(\"Dotting Theta2 {} by a2 {}\".format(Theta2.shape, hidden_layer_vec_mod.shape))\n",
    "\n",
    "# DOT the bias-unit'ed examples with the parameters (includes Theta unit0)\n",
    "predicted_indices = np.dot(Theta2, hidden_layer_vec_mod).T\n",
    "\n",
    "final_predictions = []\n",
    "for number in np.argmax(predicted_indices, axis=1):\n",
    "    if number == 9:\n",
    "        final_predictions.append(10)\n",
    "    else:\n",
    "        final_predictions.append(number + 1)"
   ]
  },
  {
   "cell_type": "code",
   "execution_count": 116,
   "metadata": {
    "collapsed": false
   },
   "outputs": [
    {
     "data": {
      "text/plain": [
       "array([1], dtype=uint8)"
      ]
     },
     "execution_count": 116,
     "metadata": {},
     "output_type": "execute_result"
    }
   ],
   "source": [
    "pri"
   ]
  },
  {
   "cell_type": "code",
   "execution_count": 127,
   "metadata": {
    "collapsed": false
   },
   "outputs": [
    {
     "data": {
      "text/plain": [
       "0.69620000000000004"
      ]
     },
     "execution_count": 127,
     "metadata": {},
     "output_type": "execute_result"
    }
   ],
   "source": [
    "np.mean(np.expand_dims(np.array(final_predictions), axis=0) == y.T)"
   ]
  },
  {
   "cell_type": "code",
   "execution_count": 124,
   "metadata": {
    "collapsed": false
   },
   "outputs": [
    {
     "data": {
      "text/plain": [
       "(5000, 1)"
      ]
     },
     "execution_count": 124,
     "metadata": {},
     "output_type": "execute_result"
    }
   ],
   "source": [
    "y.shape"
   ]
  },
  {
   "cell_type": "code",
   "execution_count": 162,
   "metadata": {
    "collapsed": false
   },
   "outputs": [
    {
     "name": "stdout",
     "output_type": "stream",
     "text": [
      "0.6962\n"
     ]
    }
   ],
   "source": [
    "truth_count = 0\n",
    "false_count = 0\n",
    "\n",
    "for i in range(len(final_predictions)):\n",
    "    if final_predictions[i] == y[i][0]:\n",
    "        truth_count += 1\n",
    "    else:\n",
    "        false_count += 1\n",
    "\n",
    "print(truth_count / (truth_count + false_count))"
   ]
  },
  {
   "cell_type": "markdown",
   "metadata": {},
   "source": [
    "## Note: 69.92% is lower than expected accuracy, 97.5%. \n",
    "Later, I will investigate as to what could be causing this."
   ]
  },
  {
   "cell_type": "code",
   "execution_count": 159,
   "metadata": {
    "collapsed": false
   },
   "outputs": [
    {
     "data": {
      "text/plain": [
       "10"
      ]
     },
     "execution_count": 159,
     "metadata": {},
     "output_type": "execute_result"
    }
   ],
   "source": [
    "y[2][0]"
   ]
  },
  {
   "cell_type": "code",
   "execution_count": 175,
   "metadata": {
    "collapsed": false
   },
   "outputs": [
    {
     "data": {
      "text/plain": [
       "array([ -89.31046982,  -36.26828031,    3.72578413,  -41.22298479,\n",
       "         15.80455727,    7.55327607,  -59.98363457,   65.5423274 ,\n",
       "          4.19458733,  109.90894172])"
      ]
     },
     "execution_count": 175,
     "metadata": {},
     "output_type": "execute_result"
    }
   ],
   "source": [
    "predicted_indices[321]"
   ]
  },
  {
   "cell_type": "code",
   "execution_count": 171,
   "metadata": {
    "collapsed": false
   },
   "outputs": [
    {
     "data": {
      "text/plain": [
       "array([7], dtype=uint8)"
      ]
     },
     "execution_count": 171,
     "metadata": {},
     "output_type": "execute_result"
    }
   ],
   "source": [
    "y[3823]"
   ]
  },
  {
   "cell_type": "code",
   "execution_count": 178,
   "metadata": {
    "collapsed": false
   },
   "outputs": [
    {
     "data": {
      "text/plain": [
       "array([ -89.31046982,  -36.26828031,    3.72578413,  -41.22298479,\n",
       "         15.80455727,    7.55327607,  -59.98363457,   65.5423274 ,\n",
       "          4.19458733,  109.90894172])"
      ]
     },
     "execution_count": 178,
     "metadata": {},
     "output_type": "execute_result"
    }
   ],
   "source": [
    "z = predicted_indices[321]\n",
    "z"
   ]
  },
  {
   "cell_type": "code",
   "execution_count": null,
   "metadata": {
    "collapsed": true
   },
   "outputs": [],
   "source": []
  }
 ],
 "metadata": {
  "anaconda-cloud": {},
  "kernelspec": {
   "display_name": "Python [default]",
   "language": "python",
   "name": "python3"
  },
  "language_info": {
   "codemirror_mode": {
    "name": "ipython",
    "version": 3
   },
   "file_extension": ".py",
   "mimetype": "text/x-python",
   "name": "python",
   "nbconvert_exporter": "python",
   "pygments_lexer": "ipython3",
   "version": "3.5.2"
  }
 },
 "nbformat": 4,
 "nbformat_minor": 1
}
