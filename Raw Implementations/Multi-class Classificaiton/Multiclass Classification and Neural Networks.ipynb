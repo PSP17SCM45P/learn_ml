{
 "cells": [
  {
   "cell_type": "markdown",
   "metadata": {},
   "source": [
    "# Homework 3, Part 1: Multiclass Classification"
   ]
  },
  {
   "cell_type": "markdown",
   "metadata": {},
   "source": [
    "In this homework, we will implement a one-vs-all logistic regression classifier to recognize hand-written digits. There are more than 2 discrete values (namely, 10), so therefore this is a multiclass classification problem. One-vs-all is the technique taught to solve a problem set up like this.\n",
    "\n",
    "For part 1, use:\n",
    "* x3.m (Octave/MATLAB script that steps you through part 1)\n",
    "* ex3data1.mat (Training set of hand-written digits)\n",
    "* lrCostFunction.m (Logistic regression cost function)\n",
    "* oneVsAll.m (Train a one-vs-all multi-class classifier)\n",
    "* predictOneVsAll.m (Predict using a one-vs-all multi-class classifier [⋆] predict.m - Neural network prediction function)"
   ]
  },
  {
   "cell_type": "markdown",
   "metadata": {},
   "source": [
    "## Import Dataset"
   ]
  },
  {
   "cell_type": "markdown",
   "metadata": {},
   "source": [
    "The dataset is in a .mat format, which is Matlab's native matrix format. We can use the scipy.io module's loadmat function to load .mat files as numpy nd-arrays."
   ]
  },
  {
   "cell_type": "code",
   "execution_count": 1,
   "metadata": {
    "collapsed": false
   },
   "outputs": [
    {
     "name": "stdout",
     "output_type": "stream",
     "text": [
      "Some properties of ex3data1.mat:\n",
      "<class 'dict'>\n",
      "dict_keys(['X', '__header__', '__globals__', 'y', '__version__'])\n"
     ]
    }
   ],
   "source": [
    "from scipy.io import loadmat\n",
    "import numpy as np\n",
    "import pandas as pd\n",
    "import matplotlib.pyplot as plt\n",
    "\n",
    "raw_data = loadmat(\"ex3data1.mat\")\n",
    "\n",
    "print(\"Some properties of ex3data1.mat:\")\n",
    "print(type(raw_data))\n",
    "print(raw_data.keys())"
   ]
  },
  {
   "cell_type": "markdown",
   "metadata": {},
   "source": [
    "It looks like the dictionary has an X and a y key, which, by the looks of the dictionarys, are numpy ndarrays. We can set these to our own variables."
   ]
  },
  {
   "cell_type": "code",
   "execution_count": 2,
   "metadata": {
    "collapsed": false
   },
   "outputs": [
    {
     "name": "stdout",
     "output_type": "stream",
     "text": [
      "Taking a look at X matrix: \n",
      "[[ 0.  0.  0. ...,  0.  0.  0.]\n",
      " [ 0.  0.  0. ...,  0.  0.  0.]\n",
      " [ 0.  0.  0. ...,  0.  0.  0.]\n",
      " ..., \n",
      " [ 0.  0.  0. ...,  0.  0.  0.]\n",
      " [ 0.  0.  0. ...,  0.  0.  0.]\n",
      " [ 0.  0.  0. ...,  0.  0.  0.]]\n",
      "\n",
      "Shape of a sample (example) of X: \n",
      "(400,) --> 20 x 20 image of digit, flattened to 400x1\n",
      "\n",
      "Total size of training set: 2000000\n"
     ]
    }
   ],
   "source": [
    "# Looking at X\n",
    "print(\"Taking a look at X matrix: \\n{}\\n\".format(raw_data[\"X\"]))\n",
    "\n",
    "# What does a sample of X look like?\n",
    "print(\"Shape of a sample (example) of X: \\n{} --> 20 x 20 image of digit, flattened to 400x1\\n\"\\\n",
    "      .format(raw_data[\"X\"][50, :].shape))\n",
    "\n",
    "# What is the total size of the training set? 5000 samples x 400 features (pixels) == 20000\n",
    "print(\"Total size of training set: {}\".format(raw_data[\"X\"].size))\n",
    "\n",
    "X = raw_data[\"X\"]"
   ]
  },
  {
   "cell_type": "code",
   "execution_count": 3,
   "metadata": {
    "collapsed": false
   },
   "outputs": [
    {
     "name": "stdout",
     "output_type": "stream",
     "text": [
      "Look at y: [[10]\n",
      " [10]\n",
      " [10]\n",
      " ..., \n",
      " [ 9]\n",
      " [ 9]\n",
      " [ 9]]\n",
      "\n",
      "Shape of y: (5000, 1)\n"
     ]
    }
   ],
   "source": [
    "# Looking at Y\n",
    "print(\"Look at y: {}\\n\".format(raw_data[\"y\"]))\n",
    "\n",
    "# Shape of y\n",
    "print(\"Shape of y: {}\".format(raw_data[\"y\"].shape))\n",
    "\n",
    "y = raw_data[\"y\"]"
   ]
  },
  {
   "cell_type": "markdown",
   "metadata": {},
   "source": [
    "## Visualizing the Dataset"
   ]
  },
  {
   "cell_type": "code",
   "execution_count": 4,
   "metadata": {
    "collapsed": false
   },
   "outputs": [
    {
     "name": "stdout",
     "output_type": "stream",
     "text": [
      "Visualizing two samples, reshaping 400x1 to 20x20, viz using plt.imshow()\n"
     ]
    },
    {
     "data": {
      "image/png": "[encoded data removed]",
      "text/plain": [
       "<matplotlib.figure.Figure at 0x114bb1400>"
      ]
     },
     "metadata": {},
     "output_type": "display_data"
    },
    {
     "data": {
      "image/png": "[encoded data removed]",
      "text/plain": [
       "<matplotlib.figure.Figure at 0x1044f9f60>"
      ]
     },
     "metadata": {},
     "output_type": "display_data"
    }
   ],
   "source": [
    "print(\"Visualizing two samples, reshaping 400x1 to 20x20, viz using plt.imshow()\")\n",
    "\n",
    "single_sample = np.expand_dims(X[1324], axis=0)\n",
    "single_sample = single_sample.reshape((20, 20))\n",
    "\n",
    "another_sample = np.expand_dims(X[321], axis=0)\n",
    "another_sample = another_sample.reshape((20, 20))\n",
    "\n",
    "plt.figure(figsize = (0.5,0.5))\n",
    "plt.gray()\n",
    "plt.imshow(single_sample, interpolation='nearest')\n",
    "plt.axis(\"off\")\n",
    "plt.show()\n",
    "\n",
    "plt.figure(figsize = (0.5,0.5))\n",
    "plt.imshow(another_sample, interpolation='nearest')\n",
    "plt.axis(\"off\")\n",
    "plt.show()"
   ]
  },
  {
   "cell_type": "code",
   "execution_count": 5,
   "metadata": {
    "collapsed": true
   },
   "outputs": [],
   "source": [
    "def sigmoid(z):\n",
    "    return 1 / (1 + np.exp(-z))"
   ]
  },
  {
   "cell_type": "code",
   "execution_count": 62,
   "metadata": {
    "collapsed": false
   },
   "outputs": [],
   "source": [
    "# Defining a regularized cost function to use for an advanced optimization method -- note y is an array\n",
    "def cost_function(parameters, X, y, reg_parameter):\n",
    "    # Part 1: Calculating cost\n",
    "    y_vector = y.ravel()\n",
    "    positive_class = y * np.log(sigmoid(np.dot(X, parameters.T)))\n",
    "    negative_class = (1 - y) * np.log(1 - sigmoid(np.dot(X, parameters.T)))\n",
    "    reg_term = np.power(parameters, 2).sum() * (reg_parameter / (2 * len(X)))\n",
    "    total_cost = ((positive_class + negative_class).sum() / -len(X)) + reg_term\n",
    "    \n",
    "    # Part 2: Calculating the gradient\n",
    "    pred_act_diff = sigmoid(np.dot(X, parameters.T)) - y\n",
    "    gradient = np.sum((X * pred_act_diff.T), axis=0)\n",
    "    # np.sum((X * (sigmoid(np.dot(X, np.zeros((400, 1)))) - y)), axis=0)\n",
    "    \n",
    "    return total_cost, gradient"
   ]
  },
  {
   "cell_type": "code",
   "execution_count": 63,
   "metadata": {
    "collapsed": false
   },
   "outputs": [
    {
     "data": {
      "text/plain": [
       "(3.734819396109744,\n",
       " array([ 0.73280684,  0.25720794,  0.62361136,  0.99001478]))"
      ]
     },
     "execution_count": 63,
     "metadata": {},
     "output_type": "execute_result"
    }
   ],
   "source": [
    "# Testing our cost_function\n",
    "theta_t = np.array([-2.0, -1.0, 1, 2.0])\n",
    "example_array = np.array([[0.1, 0.6, 1.1], [0.2, 0.7, 1.2], [0.3, 0.8, 1.3], [0.4, 0.9, 1.4], [0.5, 1.0, 1.5]])\n",
    "X_t = np.append(np.ones((5, 1)), example_array, axis=1)\n",
    "y_t = np.array([[1., 0., 1., 0., 1.]])\n",
    "lambda_t = 3\n",
    "cost_function(theta_t, X_t, y_t, lambda_t)"
   ]
  },
  {
   "cell_type": "code",
   "execution_count": 64,
   "metadata": {
    "collapsed": false
   },
   "outputs": [],
   "source": [
    "# TODO -> inspect why total_cost and gradient don't match ex3.m's proposed solution"
   ]
  },
  {
   "cell_type": "code",
   "execution_count": null,
   "metadata": {
    "collapsed": true
   },
   "outputs": [],
   "source": []
  }
 ],
 "metadata": {
  "anaconda-cloud": {},
  "kernelspec": {
   "display_name": "Python [default]",
   "language": "python",
   "name": "python3"
  },
  "language_info": {
   "codemirror_mode": {
    "name": "ipython",
    "version": 3
   },
   "file_extension": ".py",
   "mimetype": "text/x-python",
   "name": "python",
   "nbconvert_exporter": "python",
   "pygments_lexer": "ipython3",
   "version": "3.5.2"
  }
 },
 "nbformat": 4,
 "nbformat_minor": 1
}
