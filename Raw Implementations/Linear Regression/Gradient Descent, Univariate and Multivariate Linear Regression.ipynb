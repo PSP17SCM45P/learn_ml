{
 "cells": [
  {
   "cell_type": "markdown",
   "metadata": {},
   "source": [
    "# MLAG Homework 1 - Univariate Linear Regression"
   ]
  },
  {
   "cell_type": "markdown",
   "metadata": {},
   "source": [
    "Implememt linear regression with one variable to predict profits for a food truck. Given *ex1data1.txt*, the dataset provided by the food truck company, select which city to expand to next by predicting a test set of profits.\n",
    "\n",
    "ex1data1.txt is a comma-seperated text file that defines:\n",
    "    * Population of a city, in the first column\n",
    "    * Profit of a city, in the second column\n",
    "    \n",
    "Notes: With linear regression, we have to consider the 5 requirements to use it:\n",
    "    * Linear Relationship of the data\n",
    "    * No multi-colinearity\n",
    "    * Homoscedasticity\n",
    "    * Normal distribution\n",
    "    * No auto-correlation"
   ]
  },
  {
   "cell_type": "markdown",
   "metadata": {},
   "source": [
    "## Problem Start"
   ]
  },
  {
   "cell_type": "markdown",
   "metadata": {},
   "source": [
    "### Imports"
   ]
  },
  {
   "cell_type": "code",
   "execution_count": 213,
   "metadata": {
    "collapsed": true
   },
   "outputs": [],
   "source": [
    "import numpy as np\n",
    "import pandas as pd\n",
    "import matplotlib.pyplot as plt"
   ]
  },
  {
   "cell_type": "code",
   "execution_count": 214,
   "metadata": {
    "collapsed": false
   },
   "outputs": [
    {
     "data": {
      "text/html": [
       "<div>\n",
       "<table border=\"1\" class=\"dataframe\">\n",
       "  <thead>\n",
       "    <tr style=\"text-align: right;\">\n",
       "      <th></th>\n",
       "      <th>Population</th>\n",
       "      <th>Profit</th>\n",
       "    </tr>\n",
       "  </thead>\n",
       "  <tbody>\n",
       "    <tr>\n",
       "      <th>0</th>\n",
       "      <td>6.1101</td>\n",
       "      <td>17.5920</td>\n",
       "    </tr>\n",
       "    <tr>\n",
       "      <th>1</th>\n",
       "      <td>5.5277</td>\n",
       "      <td>9.1302</td>\n",
       "    </tr>\n",
       "    <tr>\n",
       "      <th>2</th>\n",
       "      <td>8.5186</td>\n",
       "      <td>13.6620</td>\n",
       "    </tr>\n",
       "    <tr>\n",
       "      <th>3</th>\n",
       "      <td>7.0032</td>\n",
       "      <td>11.8540</td>\n",
       "    </tr>\n",
       "    <tr>\n",
       "      <th>4</th>\n",
       "      <td>5.8598</td>\n",
       "      <td>6.8233</td>\n",
       "    </tr>\n",
       "  </tbody>\n",
       "</table>\n",
       "</div>"
      ],
      "text/plain": [
       "   Population   Profit\n",
       "0      6.1101  17.5920\n",
       "1      5.5277   9.1302\n",
       "2      8.5186  13.6620\n",
       "3      7.0032  11.8540\n",
       "4      5.8598   6.8233"
      ]
     },
     "execution_count": 214,
     "metadata": {},
     "output_type": "execute_result"
    }
   ],
   "source": [
    "dataset = pd.read_csv(\"ex1data1.txt\", names=[\"Population\", \"Profit\"])\n",
    "dataset.head()"
   ]
  },
  {
   "cell_type": "markdown",
   "metadata": {},
   "source": [
    "### Separating the X (independent) and Y (dependent) variables"
   ]
  },
  {
   "cell_type": "code",
   "execution_count": 234,
   "metadata": {
    "collapsed": false
   },
   "outputs": [],
   "source": [
    "X_matrix = dataset.iloc[:, [0]]\n",
    "Y_matrix = dataset.iloc[:, [1]]"
   ]
  },
  {
   "cell_type": "markdown",
   "metadata": {},
   "source": [
    "### Visualization to check linear relationship"
   ]
  },
  {
   "cell_type": "code",
   "execution_count": 216,
   "metadata": {
    "collapsed": false
   },
   "outputs": [
    {
     "data": {
      "image/png": "[encoded data removed]",
      "text/plain": [
       "<matplotlib.figure.Figure at 0x1171dcd30>"
      ]
     },
     "metadata": {},
     "output_type": "display_data"
    }
   ],
   "source": [
    "# Plot X_matrix vs Y_matrix to decide if the data has a linear relationship\n",
    "plt.scatter(X_matrix, Y_matrix, color=\"red\")\n",
    "plt.xlabel(\"Population of City\") # independent variable\n",
    "plt.ylabel(\"Profit\") # dependent variable\n",
    "plt.title(\"Profit vs Population\")\n",
    "plt.show()"
   ]
  },
  {
   "cell_type": "code",
   "execution_count": 217,
   "metadata": {
    "collapsed": false
   },
   "outputs": [
    {
     "data": {
      "text/html": [
       "<div>\n",
       "<table border=\"1\" class=\"dataframe\">\n",
       "  <thead>\n",
       "    <tr style=\"text-align: right;\">\n",
       "      <th></th>\n",
       "      <th>Population</th>\n",
       "      <th>Profit</th>\n",
       "    </tr>\n",
       "  </thead>\n",
       "  <tbody>\n",
       "    <tr>\n",
       "      <th>count</th>\n",
       "      <td>97.000000</td>\n",
       "      <td>97.000000</td>\n",
       "    </tr>\n",
       "    <tr>\n",
       "      <th>mean</th>\n",
       "      <td>8.159800</td>\n",
       "      <td>5.839135</td>\n",
       "    </tr>\n",
       "    <tr>\n",
       "      <th>std</th>\n",
       "      <td>3.869884</td>\n",
       "      <td>5.510262</td>\n",
       "    </tr>\n",
       "    <tr>\n",
       "      <th>min</th>\n",
       "      <td>5.026900</td>\n",
       "      <td>-2.680700</td>\n",
       "    </tr>\n",
       "    <tr>\n",
       "      <th>25%</th>\n",
       "      <td>5.707700</td>\n",
       "      <td>1.986900</td>\n",
       "    </tr>\n",
       "    <tr>\n",
       "      <th>50%</th>\n",
       "      <td>6.589400</td>\n",
       "      <td>4.562300</td>\n",
       "    </tr>\n",
       "    <tr>\n",
       "      <th>75%</th>\n",
       "      <td>8.578100</td>\n",
       "      <td>7.046700</td>\n",
       "    </tr>\n",
       "    <tr>\n",
       "      <th>max</th>\n",
       "      <td>22.203000</td>\n",
       "      <td>24.147000</td>\n",
       "    </tr>\n",
       "  </tbody>\n",
       "</table>\n",
       "</div>"
      ],
      "text/plain": [
       "       Population     Profit\n",
       "count   97.000000  97.000000\n",
       "mean     8.159800   5.839135\n",
       "std      3.869884   5.510262\n",
       "min      5.026900  -2.680700\n",
       "25%      5.707700   1.986900\n",
       "50%      6.589400   4.562300\n",
       "75%      8.578100   7.046700\n",
       "max     22.203000  24.147000"
      ]
     },
     "execution_count": 217,
     "metadata": {},
     "output_type": "execute_result"
    }
   ],
   "source": [
    "# Get a general idea of the dataset to identify normal distribution, deviation, homoscedasticity\n",
    "dataset.describe()"
   ]
  },
  {
   "cell_type": "markdown",
   "metadata": {},
   "source": [
    "### Gradient Descent \n",
    "The method of finding the parameters that will lead us to a linear best-fit line is gradient descent, a \"learning\" algorithm used in mathematics to generally minimize functions. The function we want to minimize is the cost function (squared error function), which tells us the error between our proposed hypothesis function and the actual results.\n",
    "\n",
    "Cost Function:\n",
    "$$J(θ)= \\frac{1}{2m}\\sum_{i=1}^m (h(x^i) - y^i)^2$$\n",
    "\n",
    "Our final gradient descent algorithm will keep changing our parameters based off of the results of the cost function, so that means we need to implement it, as it will be utilized (think: called) multiple times."
   ]
  },
  {
   "cell_type": "code",
   "execution_count": 218,
   "metadata": {
    "collapsed": false
   },
   "outputs": [],
   "source": [
    "# Prerequisite: Convert X_matrix and Y_matrix DataFrame -> ndarray\n",
    "X_array = X_matrix.values\n",
    "Y_array = Y_matrix.values"
   ]
  },
  {
   "cell_type": "code",
   "execution_count": 219,
   "metadata": {
    "collapsed": true
   },
   "outputs": [],
   "source": [
    "def cost_function(X, Y, theta_parameters):\n",
    "    ''' m: # of training examples \n",
    "        Note: .values does DataFrame -> ndarray '''\n",
    "    m = dataset.shape[0]\n",
    "    \n",
    "    ''' In np.dot, the following are the shapes,\n",
    "            X_local: (97, 2)\n",
    "            theta_parameters: (2, 1)\n",
    "            Result: (97, 1) --> subtract xxby Y_local: (97, 1) '''\n",
    "    proposed_hypothesis_func = np.dot(X, theta_parameters.T)\n",
    "    inner_summation = np.power(proposed_hypothesis_func - Y, 2)\n",
    "    final_cost = inner_summation.sum() / (2 * m)\n",
    "    return final_cost"
   ]
  },
  {
   "cell_type": "markdown",
   "metadata": {},
   "source": [
    "### θ.T and 1's Column"
   ]
  },
  {
   "cell_type": "code",
   "execution_count": 220,
   "metadata": {
    "collapsed": false
   },
   "outputs": [
    {
     "data": {
      "text/html": [
       "<div>\n",
       "<table border=\"1\" class=\"dataframe\">\n",
       "  <thead>\n",
       "    <tr style=\"text-align: right;\">\n",
       "      <th></th>\n",
       "      <th>Population</th>\n",
       "    </tr>\n",
       "  </thead>\n",
       "  <tbody>\n",
       "    <tr>\n",
       "      <th>0</th>\n",
       "      <td>6.1101</td>\n",
       "    </tr>\n",
       "    <tr>\n",
       "      <th>1</th>\n",
       "      <td>5.5277</td>\n",
       "    </tr>\n",
       "    <tr>\n",
       "      <th>2</th>\n",
       "      <td>8.5186</td>\n",
       "    </tr>\n",
       "    <tr>\n",
       "      <th>3</th>\n",
       "      <td>7.0032</td>\n",
       "    </tr>\n",
       "    <tr>\n",
       "      <th>4</th>\n",
       "      <td>5.8598</td>\n",
       "    </tr>\n",
       "  </tbody>\n",
       "</table>\n",
       "</div>"
      ],
      "text/plain": [
       "   Population\n",
       "0      6.1101\n",
       "1      5.5277\n",
       "2      8.5186\n",
       "3      7.0032\n",
       "4      5.8598"
      ]
     },
     "execution_count": 220,
     "metadata": {},
     "output_type": "execute_result"
    }
   ],
   "source": [
    "''' Array mismatch without 1's column --> (97, 1) dot (2, 1). Add a one's column to X_local (which currently only has\n",
    "    population) to fix this issue, and allow θ0 to be factored into the cost function. '''\n",
    "X_matrix.head()"
   ]
  },
  {
   "cell_type": "code",
   "execution_count": 221,
   "metadata": {
    "collapsed": false
   },
   "outputs": [],
   "source": [
    "''' After adding a \"Filler\" column. '''\n",
    "X_matrix.insert(loc=0, column=\"Filler\", value=1)\n",
    "X_matrix.head()\n",
    "X_array = X_matrix.values"
   ]
  },
  {
   "cell_type": "code",
   "execution_count": 222,
   "metadata": {
    "collapsed": false
   },
   "outputs": [
    {
     "data": {
      "text/html": [
       "<div>\n",
       "<table border=\"1\" class=\"dataframe\">\n",
       "  <thead>\n",
       "    <tr style=\"text-align: right;\">\n",
       "      <th></th>\n",
       "      <th>Profit</th>\n",
       "    </tr>\n",
       "  </thead>\n",
       "  <tbody>\n",
       "    <tr>\n",
       "      <th>0</th>\n",
       "      <td>17.5920</td>\n",
       "    </tr>\n",
       "    <tr>\n",
       "      <th>1</th>\n",
       "      <td>9.1302</td>\n",
       "    </tr>\n",
       "    <tr>\n",
       "      <th>2</th>\n",
       "      <td>13.6620</td>\n",
       "    </tr>\n",
       "    <tr>\n",
       "      <th>3</th>\n",
       "      <td>11.8540</td>\n",
       "    </tr>\n",
       "    <tr>\n",
       "      <th>4</th>\n",
       "      <td>6.8233</td>\n",
       "    </tr>\n",
       "  </tbody>\n",
       "</table>\n",
       "</div>"
      ],
      "text/plain": [
       "    Profit\n",
       "0  17.5920\n",
       "1   9.1302\n",
       "2  13.6620\n",
       "3  11.8540\n",
       "4   6.8233"
      ]
     },
     "execution_count": 222,
     "metadata": {},
     "output_type": "execute_result"
    }
   ],
   "source": [
    "Y_matrix.head()"
   ]
  },
  {
   "cell_type": "markdown",
   "metadata": {},
   "source": [
    "### Computing First Solution of the Cost Function"
   ]
  },
  {
   "cell_type": "code",
   "execution_count": 224,
   "metadata": {
    "collapsed": false
   },
   "outputs": [
    {
     "data": {
      "text/plain": [
       "32.072733877455676"
      ]
     },
     "execution_count": 224,
     "metadata": {},
     "output_type": "execute_result"
    }
   ],
   "source": [
    "''' Let's compute the result of the cost function at a hypothetical \"iteration #1\". According to the homework\n",
    "    instructions, our result should be 32.07 (when rounded to two decimal places). '''\n",
    "parameters = np.array([[0, 0]])\n",
    "cost_function(X_array, Y_array, parameters)"
   ]
  },
  {
   "cell_type": "markdown",
   "metadata": {},
   "source": [
    "### Gradient Descent"
   ]
  },
  {
   "cell_type": "code",
   "execution_count": 225,
   "metadata": {
    "collapsed": true
   },
   "outputs": [],
   "source": [
    "def gradient_descent(X, Y, theta_parameters, alpha, iterations):\n",
    "    ''' Keep changing parameters and track cost function results over each iteration '''\n",
    "    predicted_parameters = np.zeros(theta_parameters.shape) # Separate array needed for simultaneous operations\n",
    "    cost_tracking_matrix = np.zeros(iterations)\n",
    "    m = X.shape[0]\n",
    "    \n",
    "    # \"Repeat until convergence\" -> Manually select a number of iterations\n",
    "    for i in range(iterations):\n",
    "        inner_derivative_value = (np.dot(X, theta_parameters.T) - Y)\n",
    "        #print(inner_derivative_value)\n",
    "        for j in range(len(theta_parameters.ravel())):\n",
    "            # X[:, [j]] is calculated on a per-parameter basis, use [j] to keep ndarray form (2D)\n",
    "            complete_inner_value = np.multiply(inner_derivative_value, X[:, [j]])\n",
    "            predicted_parameters[0][j] = theta_parameters[0][j] - (alpha * ((1/m) * complete_inner_value.sum()))\n",
    "        \n",
    "        theta_parameters = predicted_parameters\n",
    "        cost_tracking_matrix[i] = cost_function(X, Y, theta_parameters)\n",
    "    \n",
    "    return theta_parameters, cost_tracking_matrix"
   ]
  },
  {
   "cell_type": "markdown",
   "metadata": {},
   "source": [
    "## Choosing an α and iterations value "
   ]
  },
  {
   "cell_type": "code",
   "execution_count": 226,
   "metadata": {
    "collapsed": false
   },
   "outputs": [],
   "source": [
    "X = X_array\n",
    "Y = Y_array\n",
    "theta_parameters = np.array([[0.0, 0.0]])\n",
    "alpha = 0.01\n",
    "iterations = 1000\n",
    "prediction, costs = gradient_descent(X_array, Y_array, theta_parameters, alpha, iterations)"
   ]
  },
  {
   "cell_type": "code",
   "execution_count": 227,
   "metadata": {
    "collapsed": false
   },
   "outputs": [
    {
     "data": {
      "text/plain": [
       "array([[-3.24140214,  1.1272942 ]])"
      ]
     },
     "execution_count": 227,
     "metadata": {},
     "output_type": "execute_result"
    }
   ],
   "source": [
    "prediction"
   ]
  },
  {
   "cell_type": "code",
   "execution_count": 228,
   "metadata": {
    "collapsed": false
   },
   "outputs": [
    {
     "data": {
      "image/png": "[encoded data removed]",
      "text/plain": [
       "<matplotlib.figure.Figure at 0x1173406a0>"
      ]
     },
     "metadata": {},
     "output_type": "display_data"
    }
   ],
   "source": [
    "X_population_array = X_array[:, [1]]\n",
    "hypothesis_function = np.dot(X_array, prediction.T)\n",
    "\n",
    "plt.scatter(X_population_array, Y_array, label=\"Actual\")\n",
    "plt.plot(X_population_array, hypothesis_function, label=\"Hypothesis\")\n",
    "plt.legend(loc=2)\n",
    "plt.xlabel(\"Population\")\n",
    "plt.ylabel(\"Profit\")\n",
    "plt.title(\"Profit vs Population in the Food Truck Business\")\n",
    "plt.show()"
   ]
  },
  {
   "cell_type": "markdown",
   "metadata": {},
   "source": [
    "### Visualizing α effectiveness"
   ]
  },
  {
   "cell_type": "markdown",
   "metadata": {},
   "source": [
    "Was our α value appropriately leading us to converge the gradient? As we know, we can score this metric of success by visualizing the number of iterations against the cost (unit). The curve should decrease as the iterations increase."
   ]
  },
  {
   "cell_type": "code",
   "execution_count": 229,
   "metadata": {
    "collapsed": false
   },
   "outputs": [
    {
     "data": {
      "image/png": "[encoded data removed]",
      "text/plain": [
       "<matplotlib.figure.Figure at 0x1153662e8>"
      ]
     },
     "metadata": {},
     "output_type": "display_data"
    }
   ],
   "source": [
    "#costs\n",
    "plt.plot(np.arange(0, costs.size), costs)\n",
    "plt.xlabel(\"Number of Iterations\")\n",
    "plt.ylabel(\"J (Theta0, Theta1)\")\n",
    "plt.title(\"Cost vs # Iterations\")\n",
    "plt.show()"
   ]
  },
  {
   "cell_type": "markdown",
   "metadata": {},
   "source": [
    "### Using Scikit-Learn"
   ]
  },
  {
   "cell_type": "markdown",
   "metadata": {},
   "source": [
    "We came up with our learning algorithm (gradient descent) to choose the best fit line through our data. This implementation from scratch requires a deep understanding of the algorithms that lead to a successful usage of linear regression. However, we can use the API provided by scikit-learn to effectively use linear regression (and other statistical learning techniques) for our datasets, without the math."
   ]
  },
  {
   "cell_type": "code",
   "execution_count": 263,
   "metadata": {
    "collapsed": true
   },
   "outputs": [],
   "source": [
    "from sklearn.linear_model import LinearRegression"
   ]
  },
  {
   "cell_type": "code",
   "execution_count": 268,
   "metadata": {
    "collapsed": false
   },
   "outputs": [
    {
     "data": {
      "text/plain": [
       "LinearRegression(copy_X=True, fit_intercept=True, n_jobs=1, normalize=False)"
      ]
     },
     "execution_count": 268,
     "metadata": {},
     "output_type": "execute_result"
    }
   ],
   "source": [
    "X_arr = X_matrix.values\n",
    "Y_arr = Y_array.copy()\n",
    "\n",
    "linear_regressor = LinearRegression()\n",
    "linear_regressor.fit(X_arr, Y_arr)"
   ]
  },
  {
   "cell_type": "code",
   "execution_count": 271,
   "metadata": {
    "collapsed": false
   },
   "outputs": [
    {
     "data": {
      "text/plain": [
       "array([[ 8.03455556]])"
      ]
     },
     "execution_count": 271,
     "metadata": {},
     "output_type": "execute_result"
    }
   ],
   "source": [
    "# Predicting a population of 10 (unit)\n",
    "linear_regressor.predict(10)"
   ]
  },
  {
   "cell_type": "code",
   "execution_count": 273,
   "metadata": {
    "collapsed": false
   },
   "outputs": [
    {
     "data": {
      "image/png": "[encoded data removed]",
      "text/plain": [
       "<matplotlib.figure.Figure at 0x115b01fd0>"
      ]
     },
     "metadata": {},
     "output_type": "display_data"
    }
   ],
   "source": [
    "plt.scatter(X_arr, Y_arr, color=\"red\")\n",
    "plt.plot(X_arr, linear_regressor.predict(X_arr), color=\"blue\")\n",
    "plt.title(\"Profit vs Population in the Food Truck Business\")\n",
    "plt.xlabel(\"Population\")\n",
    "plt.ylabel(\"Profit\")\n",
    "plt.show()"
   ]
  },
  {
   "cell_type": "markdown",
   "metadata": {},
   "source": [
    "# MLAG Homework 1 Bonus - Multivariate Linear Regression"
   ]
  },
  {
   "cell_type": "markdown",
   "metadata": {},
   "source": [
    "Predict the price of a house you are selling given a dataset with information about recent home sales in Portland Oregon. The dataset includes the size (square feet), number of bedrooms, and consequently the price of the house."
   ]
  },
  {
   "cell_type": "code",
   "execution_count": 230,
   "metadata": {
    "collapsed": false
   },
   "outputs": [],
   "source": [
    "new_dataset = pd.read_csv(\"ex1data2.txt\", names=[\"Size\", \"Bedrooms\", \"Price\"])"
   ]
  },
  {
   "cell_type": "markdown",
   "metadata": {},
   "source": [
    "### Add Ones Column"
   ]
  },
  {
   "cell_type": "code",
   "execution_count": 231,
   "metadata": {
    "collapsed": false
   },
   "outputs": [
    {
     "data": {
      "text/html": [
       "<div>\n",
       "<table border=\"1\" class=\"dataframe\">\n",
       "  <thead>\n",
       "    <tr style=\"text-align: right;\">\n",
       "      <th></th>\n",
       "      <th>Ones</th>\n",
       "      <th>Size</th>\n",
       "      <th>Bedrooms</th>\n",
       "      <th>Price</th>\n",
       "    </tr>\n",
       "  </thead>\n",
       "  <tbody>\n",
       "    <tr>\n",
       "      <th>0</th>\n",
       "      <td>1</td>\n",
       "      <td>2104</td>\n",
       "      <td>3</td>\n",
       "      <td>399900</td>\n",
       "    </tr>\n",
       "    <tr>\n",
       "      <th>1</th>\n",
       "      <td>1</td>\n",
       "      <td>1600</td>\n",
       "      <td>3</td>\n",
       "      <td>329900</td>\n",
       "    </tr>\n",
       "    <tr>\n",
       "      <th>2</th>\n",
       "      <td>1</td>\n",
       "      <td>2400</td>\n",
       "      <td>3</td>\n",
       "      <td>369000</td>\n",
       "    </tr>\n",
       "    <tr>\n",
       "      <th>3</th>\n",
       "      <td>1</td>\n",
       "      <td>1416</td>\n",
       "      <td>2</td>\n",
       "      <td>232000</td>\n",
       "    </tr>\n",
       "    <tr>\n",
       "      <th>4</th>\n",
       "      <td>1</td>\n",
       "      <td>3000</td>\n",
       "      <td>4</td>\n",
       "      <td>539900</td>\n",
       "    </tr>\n",
       "  </tbody>\n",
       "</table>\n",
       "</div>"
      ],
      "text/plain": [
       "   Ones  Size  Bedrooms   Price\n",
       "0     1  2104         3  399900\n",
       "1     1  1600         3  329900\n",
       "2     1  2400         3  369000\n",
       "3     1  1416         2  232000\n",
       "4     1  3000         4  539900"
      ]
     },
     "execution_count": 231,
     "metadata": {},
     "output_type": "execute_result"
    }
   ],
   "source": [
    "new_dataset.insert(0, \"Ones\", 1)\n",
    "new_dataset.head()"
   ]
  },
  {
   "cell_type": "markdown",
   "metadata": {},
   "source": [
    "### Feature Scaling"
   ]
  },
  {
   "cell_type": "markdown",
   "metadata": {},
   "source": [
    "We have to scale our features so that gradient descent will converge fast (imagine a wide, contour plot against a compressed, circular one). **Note:** It is possible that if using a library like scikit-learn to fit a regressor through the data, feature scaling will already be taken care of for us."
   ]
  },
  {
   "cell_type": "code",
   "execution_count": 232,
   "metadata": {
    "collapsed": false
   },
   "outputs": [
    {
     "data": {
      "text/html": [
       "<div>\n",
       "<table border=\"1\" class=\"dataframe\">\n",
       "  <thead>\n",
       "    <tr style=\"text-align: right;\">\n",
       "      <th></th>\n",
       "      <th>Ones</th>\n",
       "      <th>Size</th>\n",
       "      <th>Bedrooms</th>\n",
       "      <th>Price</th>\n",
       "    </tr>\n",
       "  </thead>\n",
       "  <tbody>\n",
       "    <tr>\n",
       "      <th>0</th>\n",
       "      <td>1</td>\n",
       "      <td>0.130010</td>\n",
       "      <td>-0.223675</td>\n",
       "      <td>0.475747</td>\n",
       "    </tr>\n",
       "    <tr>\n",
       "      <th>1</th>\n",
       "      <td>1</td>\n",
       "      <td>-0.504190</td>\n",
       "      <td>-0.223675</td>\n",
       "      <td>-0.084074</td>\n",
       "    </tr>\n",
       "    <tr>\n",
       "      <th>2</th>\n",
       "      <td>1</td>\n",
       "      <td>0.502476</td>\n",
       "      <td>-0.223675</td>\n",
       "      <td>0.228626</td>\n",
       "    </tr>\n",
       "    <tr>\n",
       "      <th>3</th>\n",
       "      <td>1</td>\n",
       "      <td>-0.735723</td>\n",
       "      <td>-1.537767</td>\n",
       "      <td>-0.867025</td>\n",
       "    </tr>\n",
       "    <tr>\n",
       "      <th>4</th>\n",
       "      <td>1</td>\n",
       "      <td>1.257476</td>\n",
       "      <td>1.090417</td>\n",
       "      <td>1.595389</td>\n",
       "    </tr>\n",
       "  </tbody>\n",
       "</table>\n",
       "</div>"
      ],
      "text/plain": [
       "   Ones      Size  Bedrooms     Price\n",
       "0     1  0.130010 -0.223675  0.475747\n",
       "1     1 -0.504190 -0.223675 -0.084074\n",
       "2     1  0.502476 -0.223675  0.228626\n",
       "3     1 -0.735723 -1.537767 -0.867025\n",
       "4     1  1.257476  1.090417  1.595389"
      ]
     },
     "execution_count": 232,
     "metadata": {},
     "output_type": "execute_result"
    }
   ],
   "source": [
    "''' Using the \"mean normalization\" method to feature scale. '''\n",
    "scaled_dataset = new_dataset.copy()\n",
    "scaled_dataset.iloc[:, 1:] = (scaled_dataset - scaled_dataset.mean()) / scaled_dataset.std()\n",
    "scaled_dataset.head()"
   ]
  },
  {
   "cell_type": "markdown",
   "metadata": {},
   "source": [
    "### Seperate the X (independent) and Y (dependent) variables"
   ]
  },
  {
   "cell_type": "code",
   "execution_count": 247,
   "metadata": {
    "collapsed": false
   },
   "outputs": [
    {
     "data": {
      "text/html": [
       "<div>\n",
       "<table border=\"1\" class=\"dataframe\">\n",
       "  <thead>\n",
       "    <tr style=\"text-align: right;\">\n",
       "      <th></th>\n",
       "      <th>Price</th>\n",
       "    </tr>\n",
       "  </thead>\n",
       "  <tbody>\n",
       "    <tr>\n",
       "      <th>0</th>\n",
       "      <td>0.475747</td>\n",
       "    </tr>\n",
       "    <tr>\n",
       "      <th>1</th>\n",
       "      <td>-0.084074</td>\n",
       "    </tr>\n",
       "    <tr>\n",
       "      <th>2</th>\n",
       "      <td>0.228626</td>\n",
       "    </tr>\n",
       "    <tr>\n",
       "      <th>3</th>\n",
       "      <td>-0.867025</td>\n",
       "    </tr>\n",
       "    <tr>\n",
       "      <th>4</th>\n",
       "      <td>1.595389</td>\n",
       "    </tr>\n",
       "  </tbody>\n",
       "</table>\n",
       "</div>"
      ],
      "text/plain": [
       "      Price\n",
       "0  0.475747\n",
       "1 -0.084074\n",
       "2  0.228626\n",
       "3 -0.867025\n",
       "4  1.595389"
      ]
     },
     "execution_count": 247,
     "metadata": {},
     "output_type": "execute_result"
    }
   ],
   "source": [
    "X_housing_matrix = scaled_dataset.iloc[:, [0, 1, 2]]\n",
    "X_housing_matrix.head()"
   ]
  },
  {
   "cell_type": "code",
   "execution_count": 248,
   "metadata": {
    "collapsed": false
   },
   "outputs": [
    {
     "data": {
      "text/html": [
       "<div>\n",
       "<table border=\"1\" class=\"dataframe\">\n",
       "  <thead>\n",
       "    <tr style=\"text-align: right;\">\n",
       "      <th></th>\n",
       "      <th>Price</th>\n",
       "    </tr>\n",
       "  </thead>\n",
       "  <tbody>\n",
       "    <tr>\n",
       "      <th>0</th>\n",
       "      <td>0.475747</td>\n",
       "    </tr>\n",
       "    <tr>\n",
       "      <th>1</th>\n",
       "      <td>-0.084074</td>\n",
       "    </tr>\n",
       "    <tr>\n",
       "      <th>2</th>\n",
       "      <td>0.228626</td>\n",
       "    </tr>\n",
       "    <tr>\n",
       "      <th>3</th>\n",
       "      <td>-0.867025</td>\n",
       "    </tr>\n",
       "    <tr>\n",
       "      <th>4</th>\n",
       "      <td>1.595389</td>\n",
       "    </tr>\n",
       "  </tbody>\n",
       "</table>\n",
       "</div>"
      ],
      "text/plain": [
       "      Price\n",
       "0  0.475747\n",
       "1 -0.084074\n",
       "2  0.228626\n",
       "3 -0.867025\n",
       "4  1.595389"
      ]
     },
     "execution_count": 248,
     "metadata": {},
     "output_type": "execute_result"
    }
   ],
   "source": [
    "Y_housing_matrix = scaled_dataset.iloc[:, [3]]\n",
    "Y_housing_matrix.head()"
   ]
  },
  {
   "cell_type": "code",
   "execution_count": 249,
   "metadata": {
    "collapsed": true
   },
   "outputs": [],
   "source": [
    "X_housing_matrix = X_housing_matrix.values\n",
    "Y_housing_matrix = Y_housing_matrix.values"
   ]
  },
  {
   "cell_type": "markdown",
   "metadata": {},
   "source": [
    "### Cost Function with multiple X values"
   ]
  },
  {
   "cell_type": "markdown",
   "metadata": {},
   "source": [
    "How will the cost function calculation change with multiple independent variables? The answer is simply no. The cost function is able to accomodate however many variables you throw at it because the transforms you do on the X matrix will always lead to the same shape, assuming you are predicting an (x, 1) shaped dependent matrix.\n",
    "\n",
    "$$repeat \\{$$\n",
    "    $$Theta0 = Theta0 - alpha* d/dTheta0 (J(Th0, Th1, Th2))$$\n",
    "    $$ ... $$\n",
    "    $$ ... $$\n",
    "$$\\}$$"
   ]
  },
  {
   "cell_type": "code",
   "execution_count": 250,
   "metadata": {
    "collapsed": true
   },
   "outputs": [],
   "source": [
    "# Initial Cost Function\n",
    "initial_theta = np.array([[0.0, 0.0, 0.0]])\n",
    "cost_housing = cost_function(X_housing_matrix, Y_housing_matrix, initial_theta)"
   ]
  },
  {
   "cell_type": "code",
   "execution_count": 251,
   "metadata": {
    "collapsed": false
   },
   "outputs": [
    {
     "data": {
      "text/plain": [
       "0.23711340206185572"
      ]
     },
     "execution_count": 251,
     "metadata": {},
     "output_type": "execute_result"
    }
   ],
   "source": [
    "cost_housing"
   ]
  },
  {
   "cell_type": "markdown",
   "metadata": {},
   "source": [
    "## Gradient Descent with multiple X values"
   ]
  },
  {
   "cell_type": "markdown",
   "metadata": {},
   "source": [
    "Gradient Descent adapts to multiple X values by simply introducing the simultaneous change of the corresponding parameters. Since the cost function stays the same, the only parameter-specific calculations involve: \n",
    "    * Multiplication of the X values associated with a certain parameter in the derivative step.\n",
    "    * Subtration from the current value of a parameter when finishing up the whole calculation."
   ]
  },
  {
   "cell_type": "code",
   "execution_count": 253,
   "metadata": {
    "collapsed": true
   },
   "outputs": [],
   "source": [
    "alpha = 0.01\n",
    "iters = 1000\n",
    "optimized_parameters, new_cost_matrix = gradient_descent(X_housing_matrix, Y_housing_matrix, initial_theta, alpha, iters)"
   ]
  },
  {
   "cell_type": "code",
   "execution_count": 254,
   "metadata": {
    "collapsed": false
   },
   "outputs": [
    {
     "data": {
      "text/plain": [
       "array([[ -1.03203498e-16,   8.78503652e-01,  -4.69166570e-02]])"
      ]
     },
     "execution_count": 254,
     "metadata": {},
     "output_type": "execute_result"
    }
   ],
   "source": [
    "optimized_parameters"
   ]
  },
  {
   "cell_type": "code",
   "execution_count": 261,
   "metadata": {
    "collapsed": false
   },
   "outputs": [
    {
     "data": {
      "text/plain": [
       "array([ 0.23284338,  0.22869419,  0.22466224,  0.22074405,  0.21693624,\n",
       "        0.21323556,  0.2096388 ,  0.20614291,  0.2027449 ,  0.19944186,\n",
       "        0.19623098,  0.19310955,  0.19007492,  0.18712453,  0.18425588,\n",
       "        0.18146658,  0.17875427,  0.1761167 ,  0.17355165,  0.171057  ,\n",
       "        0.16863068,  0.16627068,  0.16397505,  0.1617419 ,  0.1595694 ,\n",
       "        0.15745577,  0.15539928,  0.15339828,  0.15145112,  0.14955625,\n",
       "        0.14771212,  0.14591727,  0.14417026,  0.14246969,  0.1408142 ,\n",
       "        0.1392025 ,  0.13763331,  0.13610539,  0.13461755,  0.13316863,\n",
       "        0.1317575 ,  0.13038306,  0.12904427,  0.12774008,  0.12646951,\n",
       "        0.12523158,  0.12402536,  0.12284993,  0.12170441,  0.12058795,\n",
       "        0.11949971,  0.11843888,  0.11740468,  0.11639636,  0.11541318,\n",
       "        0.11445441,  0.11351937,  0.11260739,  0.1117178 ,  0.11084998,\n",
       "        0.11000331,  0.1091772 ,  0.10837106,  0.10758434,  0.10681648,\n",
       "        0.10606697,  0.10533528,  0.10462092,  0.1039234 ,  0.10324226,\n",
       "        0.10257704,  0.1019273 ,  0.10129261,  0.10067255,  0.10006672,\n",
       "        0.09947472,  0.09889619,  0.09833074,  0.09777802,  0.09723769,\n",
       "        0.09670939,  0.09619282,  0.09568764,  0.09519355,  0.09471025,\n",
       "        0.09423744,  0.09377486,  0.09332221,  0.09287924,  0.09244569,\n",
       "        0.0920213 ,  0.09160584,  0.09119906,  0.09080074,  0.09041065,\n",
       "        0.09002858,  0.08965432,  0.08928765,  0.08892839,  0.08857635])"
      ]
     },
     "execution_count": 261,
     "metadata": {},
     "output_type": "execute_result"
    }
   ],
   "source": [
    "# Values are decreasing\n",
    "new_cost_matrix[:100]"
   ]
  },
  {
   "cell_type": "markdown",
   "metadata": {},
   "source": [
    "### Visualizing α effectiveness"
   ]
  },
  {
   "cell_type": "code",
   "execution_count": 262,
   "metadata": {
    "collapsed": false
   },
   "outputs": [
    {
     "data": {
      "image/png": "[encoded data removed]",
      "text/plain": [
       "<matplotlib.figure.Figure at 0x115362c50>"
      ]
     },
     "metadata": {},
     "output_type": "display_data"
    }
   ],
   "source": [
    "plt.scatter(np.arange(0, new_cost_matrix.size), new_cost_matrix)\n",
    "plt.show()"
   ]
  }
 ],
 "metadata": {
  "anaconda-cloud": {},
  "kernelspec": {
   "display_name": "Python [default]",
   "language": "python",
   "name": "python3"
  },
  "language_info": {
   "codemirror_mode": {
    "name": "ipython",
    "version": 3
   },
   "file_extension": ".py",
   "mimetype": "text/x-python",
   "name": "python",
   "nbconvert_exporter": "python",
   "pygments_lexer": "ipython3",
   "version": "3.5.2"
  }
 },
 "nbformat": 4,
 "nbformat_minor": 1
}
